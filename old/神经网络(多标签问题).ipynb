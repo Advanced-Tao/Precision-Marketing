{
 "cells": [
  {
   "cell_type": "code",
   "execution_count": 1,
   "metadata": {},
   "outputs": [],
   "source": [
    "import os\n",
    "import pandas as pd\n",
    "import numpy as np\n",
    "\n",
    "class market():\n",
    "    def word_cut(self,documents):\n",
    "        stopwords = self.stopwords\n",
    "        import jieba\n",
    "        texts = []\n",
    "        for line in documents:\n",
    "            words = ' '.join(jieba.cut(line)).split(' ') # 用空格去连接，连接后马上又拆分\n",
    "            text = []\n",
    "            for word in words:\n",
    "                if (word not in stopwords) & (word != '')& (word != '\\u3000')& (word != '\\n')&(word != '\\u200b'):\n",
    "                    text.append(word)\n",
    "            texts.append(text)\n",
    "        self.docLength = len(documents)\n",
    "        return(texts)\n",
    "    def get_docLength(self):\n",
    "        return(self.docLength)\n",
    "    def frequency(self,texts,freq):\n",
    "        from collections import defaultdict\n",
    "        frequency = defaultdict(int) # value为int\n",
    "        for text in texts:\n",
    "            for word in text:\n",
    "                frequency[word] += 1\n",
    "        texts = [[word for word in text if frequency[word] > freq] for text in texts]\n",
    "        return(texts)\n",
    "    def regroup(self,texts):\n",
    "        new_texts = []\n",
    "        for i,sentence in enumerate(texts):\n",
    "            new_texts.append(\" \".join(sentence))\n",
    "        return(new_texts)\n",
    "    def add_stopwords(self,path):\n",
    "        stopwords = set()\n",
    "        with open(path,'r',encoding = 'cp936') as file:\n",
    "            for line in file:\n",
    "                stopwords.add(line.strip())\n",
    "        self.stopwords = stopwords\n",
    "        print(\"Load %s stopwords\" %len(stopwords))\n",
    "    def dictionary(self,docs):\n",
    "        token_index ={}\n",
    "        for sample in docs:\n",
    "            for word in sample:\n",
    "                if word not in token_index:\n",
    "                    token_index[word] = len(token_index) + 1\n",
    "        return(token_index)\n",
    "    def count(self,docs):\n",
    "        token_length ={}\n",
    "        for sample in docs:\n",
    "            for word in sample:\n",
    "                if word not in token_length:\n",
    "                    token_length[word] = 1\n",
    "                else:\n",
    "                    token_length[word] += 1\n",
    "        return(token_length)\n",
    "    def recoding(self,docs,token_index):\n",
    "        for i,sample in enumerate(docs):\n",
    "            for j,word in enumerate(sample):\n",
    "                if word not in token_index:\n",
    "                    sample[j] = -1\n",
    "                else:\n",
    "                    sample[j] = token_index[word]\n",
    "            docs[i] = sample\n",
    "        return(docs)\n",
    "    def delete(self,docs):\n",
    "        for index in range(len(docs)):\n",
    "            for i in range(len(docs[index])-1,-1,-1):\n",
    "                if docs[index][i] == -1:\n",
    "                    docs[index].pop(i)\n",
    "        return docs\n",
    "    def random_pick(self,df,n):\n",
    "        import random\n",
    "        import numpy as np\n",
    "        rand = np.arange(0,(len(df)-1),1)\n",
    "        random.shuffle(rand)\n",
    "        rand = list(rand[:n])\n",
    "        df = df.loc[rand,]\n",
    "        return(df)\n",
    "    def read_vectors(self,path, topn):  # read top n word vectors, i.e. top is 10000\n",
    "        lines_num, dim = 0, 0\n",
    "        vectors = {}\n",
    "        iw = []\n",
    "        wi = {}\n",
    "        with open(path, encoding='utf-8', errors='ignore') as f:\n",
    "            first_line = True\n",
    "            for line in f:\n",
    "                if first_line:\n",
    "                    first_line = False\n",
    "                    dim = int(line.rstrip().split()[1]) # 删除向量末尾的空格，然后以空格拆分获得向量\n",
    "                    continue\n",
    "                lines_num += 1\n",
    "                tokens = line.rstrip().split(' ')\n",
    "                vectors[tokens[0]] = np.asarray([float(x) for x in tokens[1:]])# 当数据源是ndarray时，asarray不会占用新的内存；当数据源不是ndarray,asarray与array一样\n",
    "                iw.append(tokens[0]) # iw储存了所有的tokons[0]，意思是index_word\n",
    "                if topn != 0 and lines_num >= topn:\n",
    "                    break\n",
    "        for i, w in enumerate(iw):\n",
    "            wi[w] = i # wi是iw的反转，意思是word_index,用w来储存字符，用一个integer去给字符编码\n",
    "        self.dim = dim\n",
    "        self.max_words = topn\n",
    "        self.word_index = wi\n",
    "        self.index_word = iw\n",
    "        self.vectors = vectors\n",
    "        print(\"Load %s word vectors.\" % len(vectors))\n",
    "    def embedding_matrix(self):\n",
    "        embedding_matrix = np.zeros((self.max_words,self.dim))\n",
    "        for word,i in self.word_index.items():\n",
    "            if i < self.max_words:\n",
    "                embedding_vector = self.vectors.get(word)\n",
    "                if embedding_vector is not None:\n",
    "                    embedding_matrix[i] = embedding_vector\n",
    "        return embedding_matrix\n",
    "    def navie_knn(self,dataSet, query, k):  \n",
    "        # 计算出某一样本与所有样本的距离，选择最大(应该修改为最小？)的k个样本作为用于knn\n",
    "        numSamples = dataSet.shape[0] # return row(sample) number of dataset\n",
    "\n",
    "        ## step 1: calculate Euclidean distance  \n",
    "        diff = np.tile(query, (numSamples, 1)) - dataSet #tile: 把query这个向量纵向复制，使得结果与dataset具有同样的行数\n",
    "        squaredDiff = diff ** 2  \n",
    "        squaredDist = np.sum(squaredDiff, axis = 1) # sum is performed by row  \n",
    "\n",
    "        ## step 2: sort the distance  \n",
    "        sortedDistIndices = np.argsort(squaredDist)   # numpy.argsort 返回的是数组值从小到大的索引值（注意是索引值，不是绝对值）\n",
    "        if k > len(sortedDistIndices):  \n",
    "            k = len(sortedDistIndices)  \n",
    "\n",
    "        return sortedDistIndices[0:k]\n",
    "    # build a big graph (normalized weight matrix)  \n",
    "    def buildGraph(self,MatX, kernel_type, rbf_sigma = None, knn_num_neighbors = None):  \n",
    "        num_samples = MatX.shape[0]  # return row(sample) number of MatX\n",
    "        affinity_matrix = np.zeros((num_samples, num_samples), np.float32)  \n",
    "        if kernel_type == 'rbf':  \n",
    "            if rbf_sigma == None:  \n",
    "                raise ValueError('You should input a sigma of rbf kernel!')  \n",
    "            for i in range(num_samples):  \n",
    "                row_sum = 0.0  \n",
    "                for j in range(num_samples):  \n",
    "                    diff = MatX[i, :] - MatX[j, :]  \n",
    "                    affinity_matrix[i][j] = np.exp(sum(diff**2) / (-2.0 * rbf_sigma**2))  \n",
    "                    row_sum += affinity_matrix[i][j]  \n",
    "                affinity_matrix[i][:] /= row_sum  \n",
    "        elif kernel_type == 'knn':  \n",
    "            if knn_num_neighbors == None:  \n",
    "                raise ValueError('You should input a k of knn kernel!')  \n",
    "            for i in range(num_samples):  \n",
    "                k_neighbors = self.navie_knn(MatX, MatX[i, :], knn_num_neighbors)  \n",
    "                affinity_matrix[i][k_neighbors] = 1.0 / knn_num_neighbors  # 将节点i与附近的k个节点连接起来，每个边的权重是1/knn_num_neighbors\n",
    "        else:  \n",
    "            raise NameError('Not support kernel type! You can use knn or rbf!')  \n",
    "\n",
    "        return affinity_matrix  \n",
    "    # label propagation  \n",
    "    def labelPropagation(self,Mat_Label, Mat_Unlabel, labels, kernel_type = 'rbf', rbf_sigma = 0.20, \\\n",
    "                        knn_num_neighbors = 10, max_iter = 500, tol = 1e-3):  \n",
    "        # initialize  \n",
    "        num_label_samples = Mat_Label.shape[0]  #已经标记的sample number\n",
    "        num_unlabel_samples = Mat_Unlabel.shape[0]  #未标记的sample number\n",
    "        num_samples = num_label_samples + num_unlabel_samples\n",
    "        labels_list = np.unique(labels)  #有哪些label\n",
    "        num_classes = len(labels_list)  #label的种类数\n",
    "\n",
    "        MatX = np.vstack((Mat_Label, Mat_Unlabel))\n",
    "        clamp_data_label = np.zeros((num_label_samples, num_classes), np.float32)  \n",
    "        for i in range(num_label_samples):  \n",
    "            clamp_data_label[i][labels[i]] = 1.0   #标记出每一个labelled sample的具体label是什么\n",
    "\n",
    "        label_function = np.zeros((num_samples, num_classes), np.float32)  \n",
    "        label_function[0 : num_label_samples] = clamp_data_label  \n",
    "        label_function[num_label_samples : num_samples] = -1  \n",
    "\n",
    "        # graph construction  \n",
    "        affinity_matrix = self.buildGraph(MatX, kernel_type, rbf_sigma, knn_num_neighbors)  \n",
    "\n",
    "        # start to propagation  \n",
    "        iter = 0; pre_label_function = np.zeros((num_samples, num_classes), np.float32)  \n",
    "        changed = np.abs(pre_label_function - label_function).sum()  \n",
    "        while iter < max_iter and changed > tol:  \n",
    "            if iter % 1 == 0:  \n",
    "                print (\"---> Iteration %d/%d, changed: %f\" % (iter, max_iter, changed))\n",
    "            pre_label_function = label_function  \n",
    "            iter += 1  \n",
    "\n",
    "            # propagation  \n",
    "            label_function = np.dot(affinity_matrix, label_function)  \n",
    "\n",
    "            # clamp  \n",
    "            label_function[0 : num_label_samples] = clamp_data_label  \n",
    "\n",
    "            # check converge  \n",
    "            changed = np.abs(pre_label_function - label_function).sum()  \n",
    "\n",
    "        # get terminate label of unlabeled data  \n",
    "        unlabel_data_labels = np.zeros(num_unlabel_samples)  \n",
    "        for i in range(num_unlabel_samples):  \n",
    "            unlabel_data_labels[i] = np.argmax(label_function[i+num_label_samples]) #取出参数中元素最大值所对应的索引 \n",
    "\n",
    "        return unlabel_data_labels "
   ]
  },
  {
   "cell_type": "code",
   "execution_count": 2,
   "metadata": {},
   "outputs": [
    {
     "name": "stdout",
     "output_type": "stream",
     "text": [
      "Load 2316 stopwords\n",
      "Load 20000 word vectors.\n"
     ]
    }
   ],
   "source": [
    "process = market()\n",
    "process.add_stopwords(\"D:/Users/PYTHON/Precision-Marketing/stopwords.txt\")\n",
    "process.read_vectors(\"D:/NLP/sgns.target.word-word.dynwin5.thr10.neg5.dim300.txt\",20000)"
   ]
  },
  {
   "cell_type": "code",
   "execution_count": 3,
   "metadata": {},
   "outputs": [
    {
     "data": {
      "text/plain": [
       "(20000, 300)"
      ]
     },
     "execution_count": 3,
     "metadata": {},
     "output_type": "execute_result"
    }
   ],
   "source": [
    "embedding_matrix = process.embedding_matrix()\n",
    "embedding_matrix.shape"
   ]
  },
  {
   "cell_type": "code",
   "execution_count": 21,
   "metadata": {},
   "outputs": [
    {
     "name": "stdout",
     "output_type": "stream",
     "text": [
      "已经读取第0个sheet\n",
      "已经读取第1个sheet\n",
      "已经读取第2个sheet\n",
      "已经读取第3个sheet\n",
      "已经读取第4个sheet\n",
      "已经读取第5个sheet\n",
      "已经读取第6个sheet\n",
      "已经读取第7个sheet\n",
      "已经读取第8个sheet\n",
      "已经读取第9个sheet\n"
     ]
    },
    {
     "data": {
      "text/html": [
       "<div>\n",
       "<style scoped>\n",
       "    .dataframe tbody tr th:only-of-type {\n",
       "        vertical-align: middle;\n",
       "    }\n",
       "\n",
       "    .dataframe tbody tr th {\n",
       "        vertical-align: top;\n",
       "    }\n",
       "\n",
       "    .dataframe thead th {\n",
       "        text-align: right;\n",
       "    }\n",
       "</style>\n",
       "<table border=\"1\" class=\"dataframe\">\n",
       "  <thead>\n",
       "    <tr style=\"text-align: right;\">\n",
       "      <th></th>\n",
       "      <th>用户名</th>\n",
       "      <th>博文</th>\n",
       "      <th>关键词</th>\n",
       "      <th>是否担忧（1=担忧，-1=完全不担忧，0=中性，有些担忧但不用买保险,2=疑似抑郁症）</th>\n",
       "      <th>标签1（担忧对象）</th>\n",
       "      <th>标签2（担忧什么）</th>\n",
       "      <th>标签3（什么保险）</th>\n",
       "      <th>标签4（症状）</th>\n",
       "      <th>转发数</th>\n",
       "      <th>评论数</th>\n",
       "      <th>点赞数</th>\n",
       "      <th>发文时间</th>\n",
       "      <th>来自</th>\n",
       "      <th>页面网址</th>\n",
       "      <th>博文链接</th>\n",
       "    </tr>\n",
       "  </thead>\n",
       "  <tbody>\n",
       "    <tr>\n",
       "      <th>0</th>\n",
       "      <td>1杯冰牛奶</td>\n",
       "      <td>\\n                    一直在各个公开场合严肃说了要理智告诉粉丝应该怎样...</td>\n",
       "      <td>父母怎么办</td>\n",
       "      <td>-1.0</td>\n",
       "      <td>NaN</td>\n",
       "      <td>NaN</td>\n",
       "      <td>NaN</td>\n",
       "      <td>NaN</td>\n",
       "      <td></td>\n",
       "      <td></td>\n",
       "      <td></td>\n",
       "      <td>\\n                        今天06:16\\n           ...</td>\n",
       "      <td>iPhone 11</td>\n",
       "      <td>https://s.weibo.com/weibo/%25E7%2588%25B6%25E6...</td>\n",
       "      <td>https://weibo.com/6606022745/IwQhN1EAC?refer_f...</td>\n",
       "    </tr>\n",
       "    <tr>\n",
       "      <th>1</th>\n",
       "      <td>干杯老铁</td>\n",
       "      <td>\\n                    网友求助: “因为男友我感染了hpv，尿道炎，宫...</td>\n",
       "      <td>父母怎么办</td>\n",
       "      <td>0.0</td>\n",
       "      <td>NaN</td>\n",
       "      <td>NaN</td>\n",
       "      <td>NaN</td>\n",
       "      <td>NaN</td>\n",
       "      <td></td>\n",
       "      <td></td>\n",
       "      <td></td>\n",
       "      <td>\\n                        今天06:02\\n           ...</td>\n",
       "      <td>即刻笔记</td>\n",
       "      <td>https://s.weibo.com/weibo/%25E7%2588%25B6%25E6...</td>\n",
       "      <td>https://weibo.com/3394404550/IwQbUFIBq?refer_f...</td>\n",
       "    </tr>\n",
       "    <tr>\n",
       "      <th>2</th>\n",
       "      <td>分手挽回失恋复合前男友前任导师</td>\n",
       "      <td>\\n                    #分手了怎么挽回前任##失恋后怎么挽回前任# 父...</td>\n",
       "      <td>父母怎么办</td>\n",
       "      <td>-1.0</td>\n",
       "      <td>NaN</td>\n",
       "      <td>NaN</td>\n",
       "      <td>NaN</td>\n",
       "      <td>NaN</td>\n",
       "      <td></td>\n",
       "      <td></td>\n",
       "      <td></td>\n",
       "      <td>\\n                        今天03:39\\n           ...</td>\n",
       "      <td>微博 weibo.com</td>\n",
       "      <td>https://s.weibo.com/weibo/%25E7%2588%25B6%25E6...</td>\n",
       "      <td>https://weibo.com/3984809099/IwPfZfAGM?refer_f...</td>\n",
       "    </tr>\n",
       "    <tr>\n",
       "      <th>3</th>\n",
       "      <td>全球奇葩事</td>\n",
       "      <td>\\n                    网友投稿：小孩子一岁多，打了媳妇几下，媳妇就教育...</td>\n",
       "      <td>父母怎么办</td>\n",
       "      <td>0.0</td>\n",
       "      <td>NaN</td>\n",
       "      <td>NaN</td>\n",
       "      <td>NaN</td>\n",
       "      <td>NaN</td>\n",
       "      <td>1</td>\n",
       "      <td>3</td>\n",
       "      <td>2</td>\n",
       "      <td>\\n                        今天02:11\\n           ...</td>\n",
       "      <td>微博 weibo.com</td>\n",
       "      <td>https://s.weibo.com/weibo/%25E7%2588%25B6%25E6...</td>\n",
       "      <td>https://weibo.com/5629436483/IwOGmd1HG?refer_f...</td>\n",
       "    </tr>\n",
       "    <tr>\n",
       "      <th>4</th>\n",
       "      <td>肆意放纵野蛮生长</td>\n",
       "      <td>\\n                    抑郁症我有慢性疾病，怎么治都治不好，可是我才1...</td>\n",
       "      <td>父母怎么办</td>\n",
       "      <td>1.0</td>\n",
       "      <td>父母</td>\n",
       "      <td>经济</td>\n",
       "      <td>死亡保险</td>\n",
       "      <td>情绪问题</td>\n",
       "      <td></td>\n",
       "      <td>8</td>\n",
       "      <td></td>\n",
       "      <td>\\n                        今天01:18\\n           ...</td>\n",
       "      <td>抑郁症超话</td>\n",
       "      <td>https://s.weibo.com/weibo/%25E7%2588%25B6%25E6...</td>\n",
       "      <td>https://weibo.com/6087910635/IwOkWv6iP?refer_f...</td>\n",
       "    </tr>\n",
       "  </tbody>\n",
       "</table>\n",
       "</div>"
      ],
      "text/plain": [
       "               用户名                                                 博文    关键词  \\\n",
       "0            1杯冰牛奶  \\n                    一直在各个公开场合严肃说了要理智告诉粉丝应该怎样...  父母怎么办   \n",
       "1             干杯老铁  \\n                    网友求助: “因为男友我感染了hpv，尿道炎，宫...  父母怎么办   \n",
       "2  分手挽回失恋复合前男友前任导师  \\n                    #分手了怎么挽回前任##失恋后怎么挽回前任# 父...  父母怎么办   \n",
       "3            全球奇葩事  \\n                    网友投稿：小孩子一岁多，打了媳妇几下，媳妇就教育...  父母怎么办   \n",
       "4         肆意放纵野蛮生长  \\n                    抑郁症我有慢性疾病，怎么治都治不好，可是我才1...  父母怎么办   \n",
       "\n",
       "   是否担忧（1=担忧，-1=完全不担忧，0=中性，有些担忧但不用买保险,2=疑似抑郁症） 标签1（担忧对象） 标签2（担忧什么） 标签3（什么保险）  \\\n",
       "0                                         -1.0       NaN       NaN       NaN   \n",
       "1                                          0.0       NaN       NaN       NaN   \n",
       "2                                         -1.0       NaN       NaN       NaN   \n",
       "3                                          0.0       NaN       NaN       NaN   \n",
       "4                                          1.0        父母        经济      死亡保险   \n",
       "\n",
       "  标签4（症状） 转发数 评论数 点赞数                                               发文时间  \\\n",
       "0     NaN              \\n                        今天06:16\\n           ...   \n",
       "1     NaN              \\n                        今天06:02\\n           ...   \n",
       "2     NaN              \\n                        今天03:39\\n           ...   \n",
       "3     NaN   1   3   2  \\n                        今天02:11\\n           ...   \n",
       "4    情绪问题       8      \\n                        今天01:18\\n           ...   \n",
       "\n",
       "             来自                                               页面网址  \\\n",
       "0     iPhone 11  https://s.weibo.com/weibo/%25E7%2588%25B6%25E6...   \n",
       "1          即刻笔记  https://s.weibo.com/weibo/%25E7%2588%25B6%25E6...   \n",
       "2  微博 weibo.com  https://s.weibo.com/weibo/%25E7%2588%25B6%25E6...   \n",
       "3  微博 weibo.com  https://s.weibo.com/weibo/%25E7%2588%25B6%25E6...   \n",
       "4         抑郁症超话  https://s.weibo.com/weibo/%25E7%2588%25B6%25E6...   \n",
       "\n",
       "                                                博文链接  \n",
       "0  https://weibo.com/6606022745/IwQhN1EAC?refer_f...  \n",
       "1  https://weibo.com/3394404550/IwQbUFIBq?refer_f...  \n",
       "2  https://weibo.com/3984809099/IwPfZfAGM?refer_f...  \n",
       "3  https://weibo.com/5629436483/IwOGmd1HG?refer_f...  \n",
       "4  https://weibo.com/6087910635/IwOkWv6iP?refer_f...  "
      ]
     },
     "execution_count": 21,
     "metadata": {},
     "output_type": "execute_result"
    }
   ],
   "source": [
    "os.chdir(\"D:/Users/PYTHON/Precision-Marketing\")\n",
    "df = pd.DataFrame()\n",
    "for i in range(10):\n",
    "    print(\"已经读取第{}个sheet\".format(i))\n",
    "    df_temp = pd.read_excel(\"关键词标签.xlsx\",sheet_name = i)\n",
    "    df = df.append(df_temp)\n",
    "# PATIENT = PATIENT[[\"博文\",\"是否担忧（1=担忧，0=不担忧）\",\"标签1（担忧对象）\",\"标签2（担忧什么）\",\"标签3（什么保险）\",\"标签4（症状）\"]]\n",
    "# df = df.loc[pd.notna(df[\"是否担忧（1=担忧，-1=完全不担忧，0=中性，有些担忧但不用买保险,2=疑似抑郁症）\"]),]\n",
    "# PATIENT = PATIENT.fillna(\"无\") # 可以尝试将是否担忧作为一个feature！\n",
    "# PATIENT.head(2)\n",
    "df[:5]"
   ]
  },
  {
   "cell_type": "code",
   "execution_count": 5,
   "metadata": {},
   "outputs": [
    {
     "data": {
      "text/html": [
       "<div>\n",
       "<style scoped>\n",
       "    .dataframe tbody tr th:only-of-type {\n",
       "        vertical-align: middle;\n",
       "    }\n",
       "\n",
       "    .dataframe tbody tr th {\n",
       "        vertical-align: top;\n",
       "    }\n",
       "\n",
       "    .dataframe thead th {\n",
       "        text-align: right;\n",
       "    }\n",
       "</style>\n",
       "<table border=\"1\" class=\"dataframe\">\n",
       "  <thead>\n",
       "    <tr style=\"text-align: right;\">\n",
       "      <th></th>\n",
       "      <th>用户名</th>\n",
       "      <th>博文</th>\n",
       "      <th>关键词</th>\n",
       "      <th>是否担忧（1=担忧，-1=完全不担忧，0=中性，有些担忧但不用买保险,2=疑似抑郁症）</th>\n",
       "      <th>标签1（担忧对象）</th>\n",
       "      <th>标签2（担忧什么）</th>\n",
       "      <th>标签3（什么保险）</th>\n",
       "      <th>标签4（症状）</th>\n",
       "      <th>转发数</th>\n",
       "      <th>评论数</th>\n",
       "      <th>点赞数</th>\n",
       "      <th>发文时间</th>\n",
       "      <th>来自</th>\n",
       "      <th>页面网址</th>\n",
       "      <th>博文链接</th>\n",
       "    </tr>\n",
       "  </thead>\n",
       "  <tbody>\n",
       "    <tr>\n",
       "      <th>0</th>\n",
       "      <td>1杯冰牛奶</td>\n",
       "      <td>\\n                    一直在各个公开场合严肃说了要理智告诉粉丝应该怎样...</td>\n",
       "      <td>父母怎么办</td>\n",
       "      <td>-1.0</td>\n",
       "      <td>NaN</td>\n",
       "      <td>NaN</td>\n",
       "      <td>NaN</td>\n",
       "      <td>NaN</td>\n",
       "      <td></td>\n",
       "      <td></td>\n",
       "      <td></td>\n",
       "      <td>\\n                        今天06:16\\n           ...</td>\n",
       "      <td>iPhone 11</td>\n",
       "      <td>https://s.weibo.com/weibo/%25E7%2588%25B6%25E6...</td>\n",
       "      <td>https://weibo.com/6606022745/IwQhN1EAC?refer_f...</td>\n",
       "    </tr>\n",
       "    <tr>\n",
       "      <th>1</th>\n",
       "      <td>干杯老铁</td>\n",
       "      <td>\\n                    网友求助: “因为男友我感染了hpv，尿道炎，宫...</td>\n",
       "      <td>父母怎么办</td>\n",
       "      <td>0.0</td>\n",
       "      <td>NaN</td>\n",
       "      <td>NaN</td>\n",
       "      <td>NaN</td>\n",
       "      <td>NaN</td>\n",
       "      <td></td>\n",
       "      <td></td>\n",
       "      <td></td>\n",
       "      <td>\\n                        今天06:02\\n           ...</td>\n",
       "      <td>即刻笔记</td>\n",
       "      <td>https://s.weibo.com/weibo/%25E7%2588%25B6%25E6...</td>\n",
       "      <td>https://weibo.com/3394404550/IwQbUFIBq?refer_f...</td>\n",
       "    </tr>\n",
       "  </tbody>\n",
       "</table>\n",
       "</div>"
      ],
      "text/plain": [
       "     用户名                                                 博文    关键词  \\\n",
       "0  1杯冰牛奶  \\n                    一直在各个公开场合严肃说了要理智告诉粉丝应该怎样...  父母怎么办   \n",
       "1   干杯老铁  \\n                    网友求助: “因为男友我感染了hpv，尿道炎，宫...  父母怎么办   \n",
       "\n",
       "   是否担忧（1=担忧，-1=完全不担忧，0=中性，有些担忧但不用买保险,2=疑似抑郁症） 标签1（担忧对象） 标签2（担忧什么） 标签3（什么保险）  \\\n",
       "0                                         -1.0       NaN       NaN       NaN   \n",
       "1                                          0.0       NaN       NaN       NaN   \n",
       "\n",
       "  标签4（症状） 转发数 评论数 点赞数                                               发文时间  \\\n",
       "0     NaN              \\n                        今天06:16\\n           ...   \n",
       "1     NaN              \\n                        今天06:02\\n           ...   \n",
       "\n",
       "          来自                                               页面网址  \\\n",
       "0  iPhone 11  https://s.weibo.com/weibo/%25E7%2588%25B6%25E6...   \n",
       "1       即刻笔记  https://s.weibo.com/weibo/%25E7%2588%25B6%25E6...   \n",
       "\n",
       "                                                博文链接  \n",
       "0  https://weibo.com/6606022745/IwQhN1EAC?refer_f...  \n",
       "1  https://weibo.com/3394404550/IwQbUFIBq?refer_f...  "
      ]
     },
     "execution_count": 5,
     "metadata": {},
     "output_type": "execute_result"
    }
   ],
   "source": [
    "df = df.loc[pd.notna(df[\"是否担忧（1=担忧，-1=完全不担忧，0=中性，有些担忧但不用买保险,2=疑似抑郁症）\"]),]\n",
    "# df = df.fillna(\"无\") # 可以尝试将是否担忧作为一个feature！\n",
    "df.head(2)"
   ]
  },
  {
   "cell_type": "code",
   "execution_count": 6,
   "metadata": {},
   "outputs": [
    {
     "data": {
      "text/plain": [
       "1574"
      ]
     },
     "execution_count": 6,
     "metadata": {},
     "output_type": "execute_result"
    }
   ],
   "source": [
    "len(df)"
   ]
  },
  {
   "cell_type": "code",
   "execution_count": 7,
   "metadata": {},
   "outputs": [
    {
     "name": "stderr",
     "output_type": "stream",
     "text": [
      "C:\\ProgramData\\Anaconda3\\lib\\site-packages\\ipykernel_launcher.py:3: SettingWithCopyWarning: \n",
      "A value is trying to be set on a copy of a slice from a DataFrame.\n",
      "Try using .loc[row_indexer,col_indexer] = value instead\n",
      "\n",
      "See the caveats in the documentation: http://pandas.pydata.org/pandas-docs/stable/user_guide/indexing.html#returning-a-view-versus-a-copy\n",
      "  This is separate from the ipykernel package so we can avoid doing imports until\n",
      "C:\\ProgramData\\Anaconda3\\lib\\site-packages\\ipykernel_launcher.py:4: SettingWithCopyWarning: \n",
      "A value is trying to be set on a copy of a slice from a DataFrame.\n",
      "Try using .loc[row_indexer,col_indexer] = value instead\n",
      "\n",
      "See the caveats in the documentation: http://pandas.pydata.org/pandas-docs/stable/user_guide/indexing.html#returning-a-view-versus-a-copy\n",
      "  after removing the cwd from sys.path.\n"
     ]
    },
    {
     "data": {
      "text/html": [
       "<div>\n",
       "<style scoped>\n",
       "    .dataframe tbody tr th:only-of-type {\n",
       "        vertical-align: middle;\n",
       "    }\n",
       "\n",
       "    .dataframe tbody tr th {\n",
       "        vertical-align: top;\n",
       "    }\n",
       "\n",
       "    .dataframe thead th {\n",
       "        text-align: right;\n",
       "    }\n",
       "</style>\n",
       "<table border=\"1\" class=\"dataframe\">\n",
       "  <thead>\n",
       "    <tr style=\"text-align: right;\">\n",
       "      <th></th>\n",
       "      <th>用户名</th>\n",
       "      <th>博文</th>\n",
       "      <th>关键词</th>\n",
       "      <th>是否担忧（1=担忧，-1=完全不担忧，0=中性，有些担忧但不用买保险,2=疑似抑郁症）</th>\n",
       "      <th>标签1（担忧对象）</th>\n",
       "      <th>标签2（担忧什么）</th>\n",
       "      <th>标签3（什么保险）</th>\n",
       "      <th>标签4（症状）</th>\n",
       "      <th>转发数</th>\n",
       "      <th>评论数</th>\n",
       "      <th>点赞数</th>\n",
       "      <th>发文时间</th>\n",
       "      <th>来自</th>\n",
       "      <th>页面网址</th>\n",
       "      <th>博文链接</th>\n",
       "    </tr>\n",
       "  </thead>\n",
       "  <tbody>\n",
       "    <tr>\n",
       "      <th>0</th>\n",
       "      <td>1杯冰牛奶</td>\n",
       "      <td>\\n                    一直在各个公开场合严肃说了要理智告诉粉丝应该怎样...</td>\n",
       "      <td>父母怎么办</td>\n",
       "      <td>不担忧</td>\n",
       "      <td>NaN</td>\n",
       "      <td>NaN</td>\n",
       "      <td>NaN</td>\n",
       "      <td>NaN</td>\n",
       "      <td></td>\n",
       "      <td></td>\n",
       "      <td></td>\n",
       "      <td>\\n                        今天06:16\\n           ...</td>\n",
       "      <td>iPhone 11</td>\n",
       "      <td>https://s.weibo.com/weibo/%25E7%2588%25B6%25E6...</td>\n",
       "      <td>https://weibo.com/6606022745/IwQhN1EAC?refer_f...</td>\n",
       "    </tr>\n",
       "    <tr>\n",
       "      <th>1</th>\n",
       "      <td>干杯老铁</td>\n",
       "      <td>\\n                    网友求助: “因为男友我感染了hpv，尿道炎，宫...</td>\n",
       "      <td>父母怎么办</td>\n",
       "      <td>中性</td>\n",
       "      <td>NaN</td>\n",
       "      <td>NaN</td>\n",
       "      <td>NaN</td>\n",
       "      <td>NaN</td>\n",
       "      <td></td>\n",
       "      <td></td>\n",
       "      <td></td>\n",
       "      <td>\\n                        今天06:02\\n           ...</td>\n",
       "      <td>即刻笔记</td>\n",
       "      <td>https://s.weibo.com/weibo/%25E7%2588%25B6%25E6...</td>\n",
       "      <td>https://weibo.com/3394404550/IwQbUFIBq?refer_f...</td>\n",
       "    </tr>\n",
       "  </tbody>\n",
       "</table>\n",
       "</div>"
      ],
      "text/plain": [
       "     用户名                                                 博文    关键词  \\\n",
       "0  1杯冰牛奶  \\n                    一直在各个公开场合严肃说了要理智告诉粉丝应该怎样...  父母怎么办   \n",
       "1   干杯老铁  \\n                    网友求助: “因为男友我感染了hpv，尿道炎，宫...  父母怎么办   \n",
       "\n",
       "  是否担忧（1=担忧，-1=完全不担忧，0=中性，有些担忧但不用买保险,2=疑似抑郁症） 标签1（担忧对象） 标签2（担忧什么） 标签3（什么保险）  \\\n",
       "0                                         不担忧       NaN       NaN       NaN   \n",
       "1                                          中性       NaN       NaN       NaN   \n",
       "\n",
       "  标签4（症状） 转发数 评论数 点赞数                                               发文时间  \\\n",
       "0     NaN              \\n                        今天06:16\\n           ...   \n",
       "1     NaN              \\n                        今天06:02\\n           ...   \n",
       "\n",
       "          来自                                               页面网址  \\\n",
       "0  iPhone 11  https://s.weibo.com/weibo/%25E7%2588%25B6%25E6...   \n",
       "1       即刻笔记  https://s.weibo.com/weibo/%25E7%2588%25B6%25E6...   \n",
       "\n",
       "                                                博文链接  \n",
       "0  https://weibo.com/6606022745/IwQhN1EAC?refer_f...  \n",
       "1  https://weibo.com/3394404550/IwQbUFIBq?refer_f...  "
      ]
     },
     "execution_count": 7,
     "metadata": {},
     "output_type": "execute_result"
    }
   ],
   "source": [
    "f = lambda v: \"担忧\" if v == 1 else (\"中性\" if v == 0 else (\"不担忧\" if v == -1 else \"疑似抑郁症\"))\n",
    "\n",
    "df[\"是否担忧（1=担忧，-1=完全不担忧，0=中性，有些担忧但不用买保险,2=疑似抑郁症）\"] = df[\"是否担忧（1=担忧，-1=完全不担忧，0=中性，有些担忧但不用买保险,2=疑似抑郁症）\"].astype(\"int\") # float转化为int\n",
    "df[\"是否担忧（1=担忧，-1=完全不担忧，0=中性，有些担忧但不用买保险,2=疑似抑郁症）\"] = df[\"是否担忧（1=担忧，-1=完全不担忧，0=中性，有些担忧但不用买保险,2=疑似抑郁症）\"].apply(f)\n",
    "df.head(2)"
   ]
  },
  {
   "cell_type": "code",
   "execution_count": 8,
   "metadata": {},
   "outputs": [
    {
     "name": "stdout",
     "output_type": "stream",
     "text": [
      "1574\n",
      "1574\n"
     ]
    },
    {
     "data": {
      "text/html": [
       "<div>\n",
       "<style scoped>\n",
       "    .dataframe tbody tr th:only-of-type {\n",
       "        vertical-align: middle;\n",
       "    }\n",
       "\n",
       "    .dataframe tbody tr th {\n",
       "        vertical-align: top;\n",
       "    }\n",
       "\n",
       "    .dataframe thead th {\n",
       "        text-align: right;\n",
       "    }\n",
       "</style>\n",
       "<table border=\"1\" class=\"dataframe\">\n",
       "  <thead>\n",
       "    <tr style=\"text-align: right;\">\n",
       "      <th></th>\n",
       "      <th>用户名</th>\n",
       "      <th>博文</th>\n",
       "      <th>关键词</th>\n",
       "      <th>是否担忧（1=担忧，-1=完全不担忧，0=中性，有些担忧但不用买保险,2=疑似抑郁症）</th>\n",
       "      <th>标签1（担忧对象）</th>\n",
       "      <th>标签2（担忧什么）</th>\n",
       "      <th>标签3（什么保险）</th>\n",
       "      <th>标签4（症状）</th>\n",
       "      <th>转发数</th>\n",
       "      <th>评论数</th>\n",
       "      <th>点赞数</th>\n",
       "      <th>发文时间</th>\n",
       "      <th>来自</th>\n",
       "      <th>页面网址</th>\n",
       "      <th>博文链接</th>\n",
       "    </tr>\n",
       "  </thead>\n",
       "  <tbody>\n",
       "    <tr>\n",
       "      <th>0</th>\n",
       "      <td>1杯冰牛奶</td>\n",
       "      <td>\\n                    一直在各个公开场合严肃说了要理智告诉粉丝应该怎样...</td>\n",
       "      <td>父母怎么办</td>\n",
       "      <td>不担忧</td>\n",
       "      <td>NaN</td>\n",
       "      <td>NaN</td>\n",
       "      <td>NaN</td>\n",
       "      <td>NaN</td>\n",
       "      <td></td>\n",
       "      <td></td>\n",
       "      <td></td>\n",
       "      <td>\\n                        今天06:16\\n           ...</td>\n",
       "      <td>iPhone 11</td>\n",
       "      <td>https://s.weibo.com/weibo/%25E7%2588%25B6%25E6...</td>\n",
       "      <td>https://weibo.com/6606022745/IwQhN1EAC?refer_f...</td>\n",
       "    </tr>\n",
       "    <tr>\n",
       "      <th>1</th>\n",
       "      <td>干杯老铁</td>\n",
       "      <td>\\n                    网友求助: “因为男友我感染了hpv，尿道炎，宫...</td>\n",
       "      <td>父母怎么办</td>\n",
       "      <td>中性</td>\n",
       "      <td>NaN</td>\n",
       "      <td>NaN</td>\n",
       "      <td>NaN</td>\n",
       "      <td>NaN</td>\n",
       "      <td></td>\n",
       "      <td></td>\n",
       "      <td></td>\n",
       "      <td>\\n                        今天06:02\\n           ...</td>\n",
       "      <td>即刻笔记</td>\n",
       "      <td>https://s.weibo.com/weibo/%25E7%2588%25B6%25E6...</td>\n",
       "      <td>https://weibo.com/3394404550/IwQbUFIBq?refer_f...</td>\n",
       "    </tr>\n",
       "  </tbody>\n",
       "</table>\n",
       "</div>"
      ],
      "text/plain": [
       "     用户名                                                 博文    关键词  \\\n",
       "0  1杯冰牛奶  \\n                    一直在各个公开场合严肃说了要理智告诉粉丝应该怎样...  父母怎么办   \n",
       "1   干杯老铁  \\n                    网友求助: “因为男友我感染了hpv，尿道炎，宫...  父母怎么办   \n",
       "\n",
       "  是否担忧（1=担忧，-1=完全不担忧，0=中性，有些担忧但不用买保险,2=疑似抑郁症） 标签1（担忧对象） 标签2（担忧什么） 标签3（什么保险）  \\\n",
       "0                                         不担忧       NaN       NaN       NaN   \n",
       "1                                          中性       NaN       NaN       NaN   \n",
       "\n",
       "  标签4（症状） 转发数 评论数 点赞数                                               发文时间  \\\n",
       "0     NaN              \\n                        今天06:16\\n           ...   \n",
       "1     NaN              \\n                        今天06:02\\n           ...   \n",
       "\n",
       "          来自                                               页面网址  \\\n",
       "0  iPhone 11  https://s.weibo.com/weibo/%25E7%2588%25B6%25E6...   \n",
       "1       即刻笔记  https://s.weibo.com/weibo/%25E7%2588%25B6%25E6...   \n",
       "\n",
       "                                                博文链接  \n",
       "0  https://weibo.com/6606022745/IwQhN1EAC?refer_f...  \n",
       "1  https://weibo.com/3394404550/IwQbUFIBq?refer_f...  "
      ]
     },
     "execution_count": 8,
     "metadata": {},
     "output_type": "execute_result"
    }
   ],
   "source": [
    "# df = pd.concat([PATIENT]) # concat之后row index会重复\n",
    "# df = pd.concat([PATIENT])\n",
    "df.reset_index(drop = True,inplace = True)\n",
    "print(len(df))\n",
    "# df = df.dropna()\n",
    "print(len(df))\n",
    "df.head(2)"
   ]
  },
  {
   "cell_type": "code",
   "execution_count": 9,
   "metadata": {},
   "outputs": [
    {
     "data": {
      "text/plain": [
       "不担忧      942\n",
       "担忧       327\n",
       "中性       296\n",
       "疑似抑郁症      9\n",
       "Name: 是否担忧（1=担忧，-1=完全不担忧，0=中性，有些担忧但不用买保险,2=疑似抑郁症）, dtype: int64"
      ]
     },
     "execution_count": 9,
     "metadata": {},
     "output_type": "execute_result"
    }
   ],
   "source": [
    "df[\"是否担忧（1=担忧，-1=完全不担忧，0=中性，有些担忧但不用买保险,2=疑似抑郁症）\"].value_counts()"
   ]
  },
  {
   "cell_type": "code",
   "execution_count": 10,
   "metadata": {},
   "outputs": [
    {
     "name": "stdout",
     "output_type": "stream",
     "text": [
      "327\n"
     ]
    }
   ],
   "source": [
    "df_worry = df[df[\"是否担忧（1=担忧，-1=完全不担忧，0=中性，有些担忧但不用买保险,2=疑似抑郁症）\"] == \"担忧\"]\n",
    "df_worry.reset_index(drop = True,inplace = True)\n",
    "# df_non_worry = df[df[\"是否担忧（1=担忧，-1=完全不担忧，0=中性，有些担忧但不用买保险,2=疑似抑郁症）\"] == \"不担忧\"]\n",
    "# df_non_worry.reset_index(drop = True,inplace = True)\n",
    "# df_notso_worry = df[df[\"是否担忧（1=担忧，-1=完全不担忧，0=中性，有些担忧但不用买保险,2=疑似抑郁症）\"] == \"中性\"]\n",
    "# df_notso_worry.reset_index(drop = True,inplace = True)\n",
    "# df_non_worry = process.random_pick(df_non_worry,min(len(df_worry),len(df_non_worry)))\n",
    "print(len(df_worry))\n",
    "# print(len(df_non_worry))"
   ]
  },
  {
   "cell_type": "code",
   "execution_count": 11,
   "metadata": {},
   "outputs": [
    {
     "name": "stdout",
     "output_type": "stream",
     "text": [
      "327\n",
      "327\n"
     ]
    }
   ],
   "source": [
    "# df_worry = df_worry.dropna()\n",
    "# df_non_worry = df_non_worry.dropna()\n",
    "# print(len(df_worry))\n",
    "# print(len(df_non_worry))"
   ]
  },
  {
   "cell_type": "code",
   "execution_count": 23,
   "metadata": {},
   "outputs": [
    {
     "name": "stdout",
     "output_type": "stream",
     "text": [
      "327\n",
      "304\n"
     ]
    },
    {
     "data": {
      "text/html": [
       "<div>\n",
       "<style scoped>\n",
       "    .dataframe tbody tr th:only-of-type {\n",
       "        vertical-align: middle;\n",
       "    }\n",
       "\n",
       "    .dataframe tbody tr th {\n",
       "        vertical-align: top;\n",
       "    }\n",
       "\n",
       "    .dataframe thead th {\n",
       "        text-align: right;\n",
       "    }\n",
       "</style>\n",
       "<table border=\"1\" class=\"dataframe\">\n",
       "  <thead>\n",
       "    <tr style=\"text-align: right;\">\n",
       "      <th></th>\n",
       "      <th>用户名</th>\n",
       "      <th>博文</th>\n",
       "      <th>关键词</th>\n",
       "      <th>是否担忧（1=担忧，-1=完全不担忧，0=中性，有些担忧但不用买保险,2=疑似抑郁症）</th>\n",
       "      <th>标签1（担忧对象）</th>\n",
       "      <th>标签2（担忧什么）</th>\n",
       "      <th>标签3（什么保险）</th>\n",
       "      <th>标签4（症状）</th>\n",
       "      <th>转发数</th>\n",
       "      <th>评论数</th>\n",
       "      <th>点赞数</th>\n",
       "      <th>发文时间</th>\n",
       "      <th>来自</th>\n",
       "      <th>页面网址</th>\n",
       "      <th>博文链接</th>\n",
       "    </tr>\n",
       "  </thead>\n",
       "  <tbody>\n",
       "    <tr>\n",
       "      <th>280</th>\n",
       "      <td>伱是雾我是酒馆儿</td>\n",
       "      <td>\\n                    #那些最孤独的瞬间#连续两天发烧到39℃，不敢告...</td>\n",
       "      <td>担心父母</td>\n",
       "      <td>担忧</td>\n",
       "      <td>自己</td>\n",
       "      <td>健康</td>\n",
       "      <td>健康保险</td>\n",
       "      <td>身体问题</td>\n",
       "      <td></td>\n",
       "      <td>4</td>\n",
       "      <td></td>\n",
       "      <td>\\n                        今天20:27\\n           ...</td>\n",
       "      <td>坚果手机 Pro 2S</td>\n",
       "      <td>https://s.weibo.com/weibo/%25E6%258B%2585%25E5...</td>\n",
       "      <td>https://weibo.com/5605042567/IwMqPBXf6?refer_f...</td>\n",
       "    </tr>\n",
       "    <tr>\n",
       "      <th>94</th>\n",
       "      <td>要吃饭的小仙女</td>\n",
       "      <td>\\n                    我会不会得病啊 2邢台 ​           ...</td>\n",
       "      <td>会不会得病</td>\n",
       "      <td>担忧</td>\n",
       "      <td>自己</td>\n",
       "      <td>健康</td>\n",
       "      <td>健康保险</td>\n",
       "      <td>担忧</td>\n",
       "      <td></td>\n",
       "      <td>2</td>\n",
       "      <td></td>\n",
       "      <td>\\n                        2019年12月02日 00:21\\n ...</td>\n",
       "      <td>vivo X21屏幕指纹手机</td>\n",
       "      <td>https://s.weibo.com/weibo/%25E4%25BC%259A%25E4...</td>\n",
       "      <td>https://weibo.com/6016899235/IiODOrZMo?refer_f...</td>\n",
       "    </tr>\n",
       "    <tr>\n",
       "      <th>124</th>\n",
       "      <td>活的很好_</td>\n",
       "      <td>\\n                    今天聊到一个比较注重会不会得病的人 有种把我拉回...</td>\n",
       "      <td>会不会得病</td>\n",
       "      <td>担忧</td>\n",
       "      <td>自己</td>\n",
       "      <td>健康</td>\n",
       "      <td>健康保险</td>\n",
       "      <td>担忧</td>\n",
       "      <td>1</td>\n",
       "      <td></td>\n",
       "      <td>1</td>\n",
       "      <td>\\n                        2019年11月03日 17:06\\n ...</td>\n",
       "      <td>Android</td>\n",
       "      <td>https://s.weibo.com/weibo/%25E4%25BC%259A%25E4...</td>\n",
       "      <td>https://weibo.com/7315045415/IevPDD4mR?refer_f...</td>\n",
       "    </tr>\n",
       "    <tr>\n",
       "      <th>225</th>\n",
       "      <td>sophia小六</td>\n",
       "      <td>\\n                    天天夜宵吃泡面会不会得病？ ​         ...</td>\n",
       "      <td>会不会得病</td>\n",
       "      <td>担忧</td>\n",
       "      <td>自己</td>\n",
       "      <td>健康</td>\n",
       "      <td>健康保险</td>\n",
       "      <td>担忧</td>\n",
       "      <td></td>\n",
       "      <td></td>\n",
       "      <td></td>\n",
       "      <td>\\n                        2019年05月21日 23:34\\n ...</td>\n",
       "      <td>OPPO超视野全面屏R15</td>\n",
       "      <td>https://s.weibo.com/weibo/%25E4%25BC%259A%25E4...</td>\n",
       "      <td>https://weibo.com/2807834222/HvgSRd2as?refer_f...</td>\n",
       "    </tr>\n",
       "    <tr>\n",
       "      <th>99</th>\n",
       "      <td>我最牛别反驳</td>\n",
       "      <td>\\n                    吃我婆婆的饭，真的很容易高血脂，脂肪肝。我怕得病...</td>\n",
       "      <td>会不会得病</td>\n",
       "      <td>担忧</td>\n",
       "      <td>自己</td>\n",
       "      <td>健康</td>\n",
       "      <td>健康保险</td>\n",
       "      <td>担忧</td>\n",
       "      <td></td>\n",
       "      <td></td>\n",
       "      <td></td>\n",
       "      <td>\\n                        2019年11月28日 12:43\\n ...</td>\n",
       "      <td>荣耀9i 千元潮美旗舰</td>\n",
       "      <td>https://s.weibo.com/weibo/%25E4%25BC%259A%25E4...</td>\n",
       "      <td>https://weibo.com/5699354119/IihN8mjSm?refer_f...</td>\n",
       "    </tr>\n",
       "  </tbody>\n",
       "</table>\n",
       "</div>"
      ],
      "text/plain": [
       "          用户名                                                 博文    关键词  \\\n",
       "280  伱是雾我是酒馆儿  \\n                    #那些最孤独的瞬间#连续两天发烧到39℃，不敢告...   担心父母   \n",
       "94    要吃饭的小仙女  \\n                    我会不会得病啊 2邢台 ​           ...  会不会得病   \n",
       "124     活的很好_  \\n                    今天聊到一个比较注重会不会得病的人 有种把我拉回...  会不会得病   \n",
       "225  sophia小六  \\n                    天天夜宵吃泡面会不会得病？ ​         ...  会不会得病   \n",
       "99     我最牛别反驳  \\n                    吃我婆婆的饭，真的很容易高血脂，脂肪肝。我怕得病...  会不会得病   \n",
       "\n",
       "    是否担忧（1=担忧，-1=完全不担忧，0=中性，有些担忧但不用买保险,2=疑似抑郁症） 标签1（担忧对象） 标签2（担忧什么） 标签3（什么保险）  \\\n",
       "280                                          担忧        自己        健康      健康保险   \n",
       "94                                           担忧        自己        健康      健康保险   \n",
       "124                                          担忧        自己        健康      健康保险   \n",
       "225                                          担忧        自己        健康      健康保险   \n",
       "99                                           担忧        自己        健康      健康保险   \n",
       "\n",
       "    标签4（症状） 转发数 评论数 点赞数                                               发文时间  \\\n",
       "280    身体问题       4      \\n                        今天20:27\\n           ...   \n",
       "94       担忧       2      \\n                        2019年12月02日 00:21\\n ...   \n",
       "124      担忧   1       1  \\n                        2019年11月03日 17:06\\n ...   \n",
       "225      担忧              \\n                        2019年05月21日 23:34\\n ...   \n",
       "99       担忧              \\n                        2019年11月28日 12:43\\n ...   \n",
       "\n",
       "                 来自                                               页面网址  \\\n",
       "280     坚果手机 Pro 2S  https://s.weibo.com/weibo/%25E6%258B%2585%25E5...   \n",
       "94   vivo X21屏幕指纹手机  https://s.weibo.com/weibo/%25E4%25BC%259A%25E4...   \n",
       "124         Android  https://s.weibo.com/weibo/%25E4%25BC%259A%25E4...   \n",
       "225   OPPO超视野全面屏R15  https://s.weibo.com/weibo/%25E4%25BC%259A%25E4...   \n",
       "99      荣耀9i 千元潮美旗舰  https://s.weibo.com/weibo/%25E4%25BC%259A%25E4...   \n",
       "\n",
       "                                                  博文链接  \n",
       "280  https://weibo.com/5605042567/IwMqPBXf6?refer_f...  \n",
       "94   https://weibo.com/6016899235/IiODOrZMo?refer_f...  \n",
       "124  https://weibo.com/7315045415/IevPDD4mR?refer_f...  \n",
       "225  https://weibo.com/2807834222/HvgSRd2as?refer_f...  \n",
       "99   https://weibo.com/5699354119/IihN8mjSm?refer_f...  "
      ]
     },
     "execution_count": 23,
     "metadata": {},
     "output_type": "execute_result"
    }
   ],
   "source": [
    "# df_use = pd.concat([df_worry,df_non_worry,df_notso_worry])\n",
    "# df_use = pd.concat([df_worry,df_non_worry])\n",
    "df_use = pd.concat([df_worry])\n",
    "df_use.reset_index(drop = True,inplace = True)\n",
    "df_use = df_use.reindex(np.random.permutation(df_use.index))\n",
    "print(len(df_use))\n",
    "df_use = df_use.dropna()\n",
    "print(len(df_use))\n",
    "df_use.head(5)"
   ]
  },
  {
   "cell_type": "code",
   "execution_count": 29,
   "metadata": {},
   "outputs": [
    {
     "data": {
      "text/plain": [
       "[array(['自己', '健康', '健康保险', '担忧'], dtype=object),\n",
       " array(['自己', '经济', '健康保险', '担忧'], dtype=object),\n",
       " array(['父母', '健康', '健康保险', '身体问题'], dtype=object),\n",
       " array(['自己', '健康', '健康保险', '情绪问题'], dtype=object),\n",
       " array(['自己', '健康', '健康保险', '作息不规律'], dtype=object)]"
      ]
     },
     "execution_count": 29,
     "metadata": {},
     "output_type": "execute_result"
    }
   ],
   "source": [
    "labels = df_use[[\"标签1（担忧对象）\",\n",
    "                  \"标签2（担忧什么）\",\"标签3（什么保险）\",\"标签4（症状）\"]]\n",
    "# labels = df_use[[\"是否担忧（1=担忧，-1=完全不担忧，0=中性，有些担忧但不用买保险,2=疑似抑郁症）\"]]\n",
    "labels = np.array(labels)\n",
    "labels = list(labels)\n",
    "labels[100:105]"
   ]
  },
  {
   "cell_type": "code",
   "execution_count": 30,
   "metadata": {},
   "outputs": [
    {
     "name": "stdout",
     "output_type": "stream",
     "text": [
      "[[0 0 1 1 0 0 0 0 0 0 0 0 0 0 0 0 0 0 0 1 0 0 1]\n",
      " [0 0 1 1 0 0 0 0 0 0 0 0 0 0 1 0 0 0 0 1 0 0 0]\n",
      " [0 0 1 1 0 0 0 0 0 0 0 0 0 0 1 0 0 0 0 1 0 0 0]\n",
      " [0 0 1 1 0 0 0 0 0 0 0 0 0 0 1 0 0 0 0 1 0 0 0]\n",
      " [0 0 1 1 0 0 0 0 0 0 0 0 0 0 1 0 0 0 0 1 0 0 0]]\n"
     ]
    }
   ],
   "source": [
    "from sklearn.preprocessing import MultiLabelBinarizer\n",
    "mlb = MultiLabelBinarizer()\n",
    "mlb.fit(labels)\n",
    "labels = mlb.transform(labels)\n",
    "print(labels[:5])"
   ]
  },
  {
   "cell_type": "code",
   "execution_count": 31,
   "metadata": {},
   "outputs": [
    {
     "name": "stdout",
     "output_type": "stream",
     "text": [
      "['亲人' '作息不规律' '健康' '健康保险' '养老' '孩子' '宠物' '宠物保险' '少儿保险' '工作问题' '年金保险'\n",
      " '情绪问题' '意外' '意外保险' '担忧' '日常习惯问题' '死亡保险' '父母' '经济' '自己' '营业中断' '营业中断险'\n",
      " '身体问题']\n"
     ]
    }
   ],
   "source": [
    "print(mlb.classes_)"
   ]
  },
  {
   "cell_type": "code",
   "execution_count": 32,
   "metadata": {},
   "outputs": [
    {
     "name": "stderr",
     "output_type": "stream",
     "text": [
      "Building prefix dict from the default dictionary ...\n",
      "Loading model from cache C:\\Users\\lenovo\\AppData\\Local\\Temp\\jieba.cache\n",
      "Loading model cost 0.631 seconds.\n",
      "Prefix dict has been built successfully.\n"
     ]
    }
   ],
   "source": [
    "x_train = process.word_cut(df_use[\"博文\"])\n",
    "x_train = process.frequency(x_train,5)"
   ]
  },
  {
   "cell_type": "code",
   "execution_count": 33,
   "metadata": {},
   "outputs": [],
   "source": [
    "# 给字符编码。如果x_train中的词语不在传入的实参token_index中，那么就编码为-1\n",
    "x_train = process.recoding(x_train,process.word_index)\n",
    "# x_train[:5]"
   ]
  },
  {
   "cell_type": "code",
   "execution_count": 34,
   "metadata": {},
   "outputs": [],
   "source": [
    "x_train = process.delete(x_train)\n",
    "# x_train[:2]"
   ]
  },
  {
   "cell_type": "code",
   "execution_count": 35,
   "metadata": {},
   "outputs": [
    {
     "name": "stderr",
     "output_type": "stream",
     "text": [
      "Using TensorFlow backend.\n"
     ]
    },
    {
     "data": {
      "text/plain": [
       "(304, 50)"
      ]
     },
     "execution_count": 35,
     "metadata": {},
     "output_type": "execute_result"
    }
   ],
   "source": [
    "import keras\n",
    "import tensorflow\n",
    "from keras import preprocessing\n",
    "\n",
    "max_len = 50\n",
    "x_train = preprocessing.sequence.pad_sequences(x_train,maxlen = max_len)\n",
    "\n",
    "x_train.shape"
   ]
  },
  {
   "cell_type": "code",
   "execution_count": 36,
   "metadata": {},
   "outputs": [
    {
     "data": {
      "text/html": [
       "<div>\n",
       "<style scoped>\n",
       "    .dataframe tbody tr th:only-of-type {\n",
       "        vertical-align: middle;\n",
       "    }\n",
       "\n",
       "    .dataframe tbody tr th {\n",
       "        vertical-align: top;\n",
       "    }\n",
       "\n",
       "    .dataframe thead th {\n",
       "        text-align: right;\n",
       "    }\n",
       "</style>\n",
       "<table border=\"1\" class=\"dataframe\">\n",
       "  <thead>\n",
       "    <tr style=\"text-align: right;\">\n",
       "      <th></th>\n",
       "      <th>用户名</th>\n",
       "      <th>博文</th>\n",
       "      <th>关键词</th>\n",
       "      <th>是否担忧（1=担忧，-1=完全不担忧，0=中性，有些担忧但不用买保险,2=疑似抑郁症）</th>\n",
       "      <th>标签1（担忧对象）</th>\n",
       "      <th>标签2（担忧什么）</th>\n",
       "      <th>标签3（什么保险）</th>\n",
       "      <th>标签4（症状）</th>\n",
       "      <th>转发数</th>\n",
       "      <th>评论数</th>\n",
       "      <th>点赞数</th>\n",
       "      <th>发文时间</th>\n",
       "      <th>来自</th>\n",
       "      <th>页面网址</th>\n",
       "      <th>博文链接</th>\n",
       "    </tr>\n",
       "  </thead>\n",
       "  <tbody>\n",
       "    <tr>\n",
       "      <th>280</th>\n",
       "      <td>伱是雾我是酒馆儿</td>\n",
       "      <td>\\n                    #那些最孤独的瞬间#连续两天发烧到39℃，不敢告...</td>\n",
       "      <td>担心父母</td>\n",
       "      <td>担忧</td>\n",
       "      <td>自己</td>\n",
       "      <td>健康</td>\n",
       "      <td>健康保险</td>\n",
       "      <td>身体问题</td>\n",
       "      <td></td>\n",
       "      <td>4</td>\n",
       "      <td></td>\n",
       "      <td>\\n                        今天20:27\\n           ...</td>\n",
       "      <td>坚果手机 Pro 2S</td>\n",
       "      <td>https://s.weibo.com/weibo/%25E6%258B%2585%25E5...</td>\n",
       "      <td>https://weibo.com/5605042567/IwMqPBXf6?refer_f...</td>\n",
       "    </tr>\n",
       "    <tr>\n",
       "      <th>94</th>\n",
       "      <td>要吃饭的小仙女</td>\n",
       "      <td>\\n                    我会不会得病啊 2邢台 ​           ...</td>\n",
       "      <td>会不会得病</td>\n",
       "      <td>担忧</td>\n",
       "      <td>自己</td>\n",
       "      <td>健康</td>\n",
       "      <td>健康保险</td>\n",
       "      <td>担忧</td>\n",
       "      <td></td>\n",
       "      <td>2</td>\n",
       "      <td></td>\n",
       "      <td>\\n                        2019年12月02日 00:21\\n ...</td>\n",
       "      <td>vivo X21屏幕指纹手机</td>\n",
       "      <td>https://s.weibo.com/weibo/%25E4%25BC%259A%25E4...</td>\n",
       "      <td>https://weibo.com/6016899235/IiODOrZMo?refer_f...</td>\n",
       "    </tr>\n",
       "  </tbody>\n",
       "</table>\n",
       "</div>"
      ],
      "text/plain": [
       "          用户名                                                 博文    关键词  \\\n",
       "280  伱是雾我是酒馆儿  \\n                    #那些最孤独的瞬间#连续两天发烧到39℃，不敢告...   担心父母   \n",
       "94    要吃饭的小仙女  \\n                    我会不会得病啊 2邢台 ​           ...  会不会得病   \n",
       "\n",
       "    是否担忧（1=担忧，-1=完全不担忧，0=中性，有些担忧但不用买保险,2=疑似抑郁症） 标签1（担忧对象） 标签2（担忧什么） 标签3（什么保险）  \\\n",
       "280                                          担忧        自己        健康      健康保险   \n",
       "94                                           担忧        自己        健康      健康保险   \n",
       "\n",
       "    标签4（症状） 转发数 评论数 点赞数                                               发文时间  \\\n",
       "280    身体问题       4      \\n                        今天20:27\\n           ...   \n",
       "94       担忧       2      \\n                        2019年12月02日 00:21\\n ...   \n",
       "\n",
       "                 来自                                               页面网址  \\\n",
       "280     坚果手机 Pro 2S  https://s.weibo.com/weibo/%25E6%258B%2585%25E5...   \n",
       "94   vivo X21屏幕指纹手机  https://s.weibo.com/weibo/%25E4%25BC%259A%25E4...   \n",
       "\n",
       "                                                  博文链接  \n",
       "280  https://weibo.com/5605042567/IwMqPBXf6?refer_f...  \n",
       "94   https://weibo.com/6016899235/IiODOrZMo?refer_f...  "
      ]
     },
     "execution_count": 36,
     "metadata": {},
     "output_type": "execute_result"
    }
   ],
   "source": [
    "df_use.head(2)"
   ]
  },
  {
   "cell_type": "code",
   "execution_count": 37,
   "metadata": {},
   "outputs": [
    {
     "data": {
      "text/plain": [
       "array([[0, 0, 1, 1, 0, 0, 0, 0, 0, 0, 0, 0, 0, 0, 0, 0, 0, 0, 0, 1, 0, 0,\n",
       "        1],\n",
       "       [0, 0, 1, 1, 0, 0, 0, 0, 0, 0, 0, 0, 0, 0, 1, 0, 0, 0, 0, 1, 0, 0,\n",
       "        0],\n",
       "       [0, 0, 1, 1, 0, 0, 0, 0, 0, 0, 0, 0, 0, 0, 1, 0, 0, 0, 0, 1, 0, 0,\n",
       "        0],\n",
       "       [0, 0, 1, 1, 0, 0, 0, 0, 0, 0, 0, 0, 0, 0, 1, 0, 0, 0, 0, 1, 0, 0,\n",
       "        0],\n",
       "       [0, 0, 1, 1, 0, 0, 0, 0, 0, 0, 0, 0, 0, 0, 1, 0, 0, 0, 0, 1, 0, 0,\n",
       "        0]])"
      ]
     },
     "execution_count": 37,
     "metadata": {},
     "output_type": "execute_result"
    }
   ],
   "source": [
    "y_train = labels\n",
    "# y_train = df_use[\"是否担忧（1=担忧，-1=完全不担忧，0=中性，有些担忧但不用买保险,2=疑似抑郁症）\"]\n",
    "# y_train = y_train.apply(lambda v: 1 if v == \"担忧\" else -1)\n",
    "y_train[:5]"
   ]
  },
  {
   "cell_type": "code",
   "execution_count": 38,
   "metadata": {},
   "outputs": [
    {
     "name": "stdout",
     "output_type": "stream",
     "text": [
      "(304, 50)\n",
      "(304, 23)\n"
     ]
    }
   ],
   "source": [
    "y_train = np.array(y_train)\n",
    "print(x_train.shape)\n",
    "print(y_train.shape)"
   ]
  },
  {
   "cell_type": "code",
   "execution_count": 39,
   "metadata": {},
   "outputs": [
    {
     "data": {
      "text/plain": [
       "array([[0, 0, 1, ..., 0, 0, 1],\n",
       "       [0, 0, 1, ..., 0, 0, 0],\n",
       "       [0, 0, 1, ..., 0, 0, 0],\n",
       "       ...,\n",
       "       [0, 0, 1, ..., 0, 0, 0],\n",
       "       [0, 0, 1, ..., 0, 0, 0],\n",
       "       [0, 0, 0, ..., 0, 0, 0]])"
      ]
     },
     "execution_count": 39,
     "metadata": {},
     "output_type": "execute_result"
    }
   ],
   "source": [
    "y_train"
   ]
  },
  {
   "cell_type": "code",
   "execution_count": 41,
   "metadata": {},
   "outputs": [
    {
     "name": "stdout",
     "output_type": "stream",
     "text": [
      "Model: \"sequential_1\"\n",
      "_________________________________________________________________\n",
      "Layer (type)                 Output Shape              Param #   \n",
      "=================================================================\n",
      "embedding_1 (Embedding)      (None, 50, 300)           6000000   \n",
      "_________________________________________________________________\n",
      "dropout_1 (Dropout)          (None, 50, 300)           0         \n",
      "_________________________________________________________________\n",
      "bidirectional_1 (Bidirection (None, 40)                51360     \n",
      "_________________________________________________________________\n",
      "dense_1 (Dense)              (None, 23)                943       \n",
      "=================================================================\n",
      "Total params: 6,052,303\n",
      "Trainable params: 6,052,303\n",
      "Non-trainable params: 0\n",
      "_________________________________________________________________\n"
     ]
    }
   ],
   "source": [
    "from keras.models import Sequential\n",
    "from keras.layers import Flatten,Dense,Embedding,LSTM,Bidirectional,Dropout\n",
    "\n",
    "max_features = 20000\n",
    "max_len = 50\n",
    "\n",
    "model = Sequential()\n",
    "model.add(Embedding(max_features,300,input_length = max_len,mask_zero = True)) # 遇到0，就不会反向传播更新权重\n",
    "model.add(Dropout(0.5))\n",
    "model.add(Bidirectional(LSTM(20),merge_mode = 'concat'))\n",
    "model.add(Dense(y_train.shape[1],activation = 'sigmoid'))\n",
    "# model.compile(optimizer = 'rmsprop',loss = 'categorical_crossentropy',metrics = ['accuracy'])\n",
    "model.compile(optimizer = 'rmsprop',loss = 'binary_crossentropy',metrics = ['accuracy'])\n",
    "model.summary()"
   ]
  },
  {
   "cell_type": "code",
   "execution_count": 42,
   "metadata": {},
   "outputs": [],
   "source": [
    "model.layers[0].set_weights([embedding_matrix])\n",
    "model.layers[0].trainable = False"
   ]
  },
  {
   "cell_type": "code",
   "execution_count": 43,
   "metadata": {},
   "outputs": [
    {
     "data": {
      "text/plain": [
       "array([[   0,    0,    0, ...,  462, 7798, 1947],\n",
       "       [   0,    0,    0, ...,    0,    0, 9759],\n",
       "       [   0,    0,    0, ...,  673, 7798, 1947],\n",
       "       ...,\n",
       "       [   0,    0,    0, ..., 9266, 6209, 4428],\n",
       "       [   0,    0,    0, ...,  258, 3624, 9759],\n",
       "       [   0,    0,    0, ..., 2678, 2678, 6209]])"
      ]
     },
     "execution_count": 43,
     "metadata": {},
     "output_type": "execute_result"
    }
   ],
   "source": [
    "x_train"
   ]
  },
  {
   "cell_type": "code",
   "execution_count": 44,
   "metadata": {},
   "outputs": [
    {
     "name": "stderr",
     "output_type": "stream",
     "text": [
      "C:\\ProgramData\\Anaconda3\\lib\\site-packages\\keras\\engine\\training.py:297: UserWarning: Discrepancy between trainable weights and collected trainable weights, did you set `model.trainable` without calling `model.compile` after ?\n",
      "  'Discrepancy between trainable weights and collected trainable'\n",
      "C:\\ProgramData\\Anaconda3\\lib\\site-packages\\tensorflow_core\\python\\framework\\indexed_slices.py:424: UserWarning: Converting sparse IndexedSlices to a dense Tensor of unknown shape. This may consume a large amount of memory.\n",
      "  \"Converting sparse IndexedSlices to a dense Tensor of unknown shape. \"\n"
     ]
    },
    {
     "name": "stdout",
     "output_type": "stream",
     "text": [
      "Train on 212 samples, validate on 92 samples\n",
      "Epoch 1/10\n",
      "212/212 [==============================] - 1s 5ms/step - loss: 0.6801 - accuracy: 0.5806 - val_loss: 0.6271 - val_accuracy: 0.7973\n",
      "Epoch 2/10\n",
      "212/212 [==============================] - 0s 2ms/step - loss: 0.6124 - accuracy: 0.7982 - val_loss: 0.5721 - val_accuracy: 0.8823\n",
      "Epoch 3/10\n",
      "212/212 [==============================] - 0s 2ms/step - loss: 0.5559 - accuracy: 0.8708 - val_loss: 0.5244 - val_accuracy: 0.9026\n",
      "Epoch 4/10\n",
      "212/212 [==============================] - 0s 2ms/step - loss: 0.5064 - accuracy: 0.8950 - val_loss: 0.4866 - val_accuracy: 0.9064\n",
      "Epoch 5/10\n",
      "212/212 [==============================] - 0s 2ms/step - loss: 0.4641 - accuracy: 0.9091 - val_loss: 0.4560 - val_accuracy: 0.9135\n",
      "Epoch 6/10\n",
      "212/212 [==============================] - 0s 2ms/step - loss: 0.4326 - accuracy: 0.9145 - val_loss: 0.4312 - val_accuracy: 0.9244\n",
      "Epoch 7/10\n",
      "212/212 [==============================] - 0s 2ms/step - loss: 0.4046 - accuracy: 0.9256 - val_loss: 0.4100 - val_accuracy: 0.9263\n",
      "Epoch 8/10\n",
      "212/212 [==============================] - 0s 2ms/step - loss: 0.3821 - accuracy: 0.9299 - val_loss: 0.3921 - val_accuracy: 0.9253\n",
      "Epoch 9/10\n",
      "212/212 [==============================] - 0s 2ms/step - loss: 0.3634 - accuracy: 0.9284 - val_loss: 0.3765 - val_accuracy: 0.9249\n",
      "Epoch 10/10\n",
      "212/212 [==============================] - 0s 2ms/step - loss: 0.3464 - accuracy: 0.9290 - val_loss: 0.3629 - val_accuracy: 0.9258\n"
     ]
    }
   ],
   "source": [
    "history = model.fit(x_train,\n",
    "                    y_train,\n",
    "                    epochs = 10,\n",
    "                    batch_size = 128, # batch_size越大越好，但是太大会影响计算效率\n",
    "                    validation_split= 0.3)"
   ]
  },
  {
   "cell_type": "code",
   "execution_count": 45,
   "metadata": {},
   "outputs": [
    {
     "data": {
      "text/plain": [
       "array(['亲人', '作息不规律', '健康', '健康保险', '养老', '孩子', '宠物', '宠物保险', '少儿保险',\n",
       "       '工作问题', '年金保险', '情绪问题', '意外', '意外保险', '担忧', '日常习惯问题', '死亡保险', '父母',\n",
       "       '经济', '自己', '营业中断', '营业中断险', '身体问题'], dtype=object)"
      ]
     },
     "execution_count": 45,
     "metadata": {},
     "output_type": "execute_result"
    }
   ],
   "source": [
    "mlb.classes_"
   ]
  },
  {
   "cell_type": "code",
   "execution_count": 46,
   "metadata": {},
   "outputs": [
    {
     "data": {
      "text/html": [
       "<div>\n",
       "<style scoped>\n",
       "    .dataframe tbody tr th:only-of-type {\n",
       "        vertical-align: middle;\n",
       "    }\n",
       "\n",
       "    .dataframe tbody tr th {\n",
       "        vertical-align: top;\n",
       "    }\n",
       "\n",
       "    .dataframe thead th {\n",
       "        text-align: right;\n",
       "    }\n",
       "</style>\n",
       "<table border=\"1\" class=\"dataframe\">\n",
       "  <thead>\n",
       "    <tr style=\"text-align: right;\">\n",
       "      <th></th>\n",
       "      <th>用户名</th>\n",
       "      <th>博文</th>\n",
       "      <th>关键词</th>\n",
       "      <th>是否担忧（1=担忧，-1=完全不担忧，0=中性，有些担忧但不用买保险,2=疑似抑郁症）</th>\n",
       "      <th>标签1（担忧对象）</th>\n",
       "      <th>标签2（担忧什么）</th>\n",
       "      <th>标签3（什么保险）</th>\n",
       "      <th>标签4（症状）</th>\n",
       "      <th>转发数</th>\n",
       "      <th>评论数</th>\n",
       "      <th>点赞数</th>\n",
       "      <th>发文时间</th>\n",
       "      <th>来自</th>\n",
       "      <th>页面网址</th>\n",
       "      <th>博文链接</th>\n",
       "    </tr>\n",
       "  </thead>\n",
       "  <tbody>\n",
       "    <tr>\n",
       "      <th>280</th>\n",
       "      <td>伱是雾我是酒馆儿</td>\n",
       "      <td>\\n                    #那些最孤独的瞬间#连续两天发烧到39℃，不敢告...</td>\n",
       "      <td>担心父母</td>\n",
       "      <td>担忧</td>\n",
       "      <td>自己</td>\n",
       "      <td>健康</td>\n",
       "      <td>健康保险</td>\n",
       "      <td>身体问题</td>\n",
       "      <td></td>\n",
       "      <td>4</td>\n",
       "      <td></td>\n",
       "      <td>\\n                        今天20:27\\n           ...</td>\n",
       "      <td>坚果手机 Pro 2S</td>\n",
       "      <td>https://s.weibo.com/weibo/%25E6%258B%2585%25E5...</td>\n",
       "      <td>https://weibo.com/5605042567/IwMqPBXf6?refer_f...</td>\n",
       "    </tr>\n",
       "    <tr>\n",
       "      <th>94</th>\n",
       "      <td>要吃饭的小仙女</td>\n",
       "      <td>\\n                    我会不会得病啊 2邢台 ​           ...</td>\n",
       "      <td>会不会得病</td>\n",
       "      <td>担忧</td>\n",
       "      <td>自己</td>\n",
       "      <td>健康</td>\n",
       "      <td>健康保险</td>\n",
       "      <td>担忧</td>\n",
       "      <td></td>\n",
       "      <td>2</td>\n",
       "      <td></td>\n",
       "      <td>\\n                        2019年12月02日 00:21\\n ...</td>\n",
       "      <td>vivo X21屏幕指纹手机</td>\n",
       "      <td>https://s.weibo.com/weibo/%25E4%25BC%259A%25E4...</td>\n",
       "      <td>https://weibo.com/6016899235/IiODOrZMo?refer_f...</td>\n",
       "    </tr>\n",
       "    <tr>\n",
       "      <th>124</th>\n",
       "      <td>活的很好_</td>\n",
       "      <td>\\n                    今天聊到一个比较注重会不会得病的人 有种把我拉回...</td>\n",
       "      <td>会不会得病</td>\n",
       "      <td>担忧</td>\n",
       "      <td>自己</td>\n",
       "      <td>健康</td>\n",
       "      <td>健康保险</td>\n",
       "      <td>担忧</td>\n",
       "      <td>1</td>\n",
       "      <td></td>\n",
       "      <td>1</td>\n",
       "      <td>\\n                        2019年11月03日 17:06\\n ...</td>\n",
       "      <td>Android</td>\n",
       "      <td>https://s.weibo.com/weibo/%25E4%25BC%259A%25E4...</td>\n",
       "      <td>https://weibo.com/7315045415/IevPDD4mR?refer_f...</td>\n",
       "    </tr>\n",
       "    <tr>\n",
       "      <th>225</th>\n",
       "      <td>sophia小六</td>\n",
       "      <td>\\n                    天天夜宵吃泡面会不会得病？ ​         ...</td>\n",
       "      <td>会不会得病</td>\n",
       "      <td>担忧</td>\n",
       "      <td>自己</td>\n",
       "      <td>健康</td>\n",
       "      <td>健康保险</td>\n",
       "      <td>担忧</td>\n",
       "      <td></td>\n",
       "      <td></td>\n",
       "      <td></td>\n",
       "      <td>\\n                        2019年05月21日 23:34\\n ...</td>\n",
       "      <td>OPPO超视野全面屏R15</td>\n",
       "      <td>https://s.weibo.com/weibo/%25E4%25BC%259A%25E4...</td>\n",
       "      <td>https://weibo.com/2807834222/HvgSRd2as?refer_f...</td>\n",
       "    </tr>\n",
       "    <tr>\n",
       "      <th>99</th>\n",
       "      <td>我最牛别反驳</td>\n",
       "      <td>\\n                    吃我婆婆的饭，真的很容易高血脂，脂肪肝。我怕得病...</td>\n",
       "      <td>会不会得病</td>\n",
       "      <td>担忧</td>\n",
       "      <td>自己</td>\n",
       "      <td>健康</td>\n",
       "      <td>健康保险</td>\n",
       "      <td>担忧</td>\n",
       "      <td></td>\n",
       "      <td></td>\n",
       "      <td></td>\n",
       "      <td>\\n                        2019年11月28日 12:43\\n ...</td>\n",
       "      <td>荣耀9i 千元潮美旗舰</td>\n",
       "      <td>https://s.weibo.com/weibo/%25E4%25BC%259A%25E4...</td>\n",
       "      <td>https://weibo.com/5699354119/IihN8mjSm?refer_f...</td>\n",
       "    </tr>\n",
       "  </tbody>\n",
       "</table>\n",
       "</div>"
      ],
      "text/plain": [
       "          用户名                                                 博文    关键词  \\\n",
       "280  伱是雾我是酒馆儿  \\n                    #那些最孤独的瞬间#连续两天发烧到39℃，不敢告...   担心父母   \n",
       "94    要吃饭的小仙女  \\n                    我会不会得病啊 2邢台 ​           ...  会不会得病   \n",
       "124     活的很好_  \\n                    今天聊到一个比较注重会不会得病的人 有种把我拉回...  会不会得病   \n",
       "225  sophia小六  \\n                    天天夜宵吃泡面会不会得病？ ​         ...  会不会得病   \n",
       "99     我最牛别反驳  \\n                    吃我婆婆的饭，真的很容易高血脂，脂肪肝。我怕得病...  会不会得病   \n",
       "\n",
       "    是否担忧（1=担忧，-1=完全不担忧，0=中性，有些担忧但不用买保险,2=疑似抑郁症） 标签1（担忧对象） 标签2（担忧什么） 标签3（什么保险）  \\\n",
       "280                                          担忧        自己        健康      健康保险   \n",
       "94                                           担忧        自己        健康      健康保险   \n",
       "124                                          担忧        自己        健康      健康保险   \n",
       "225                                          担忧        自己        健康      健康保险   \n",
       "99                                           担忧        自己        健康      健康保险   \n",
       "\n",
       "    标签4（症状） 转发数 评论数 点赞数                                               发文时间  \\\n",
       "280    身体问题       4      \\n                        今天20:27\\n           ...   \n",
       "94       担忧       2      \\n                        2019年12月02日 00:21\\n ...   \n",
       "124      担忧   1       1  \\n                        2019年11月03日 17:06\\n ...   \n",
       "225      担忧              \\n                        2019年05月21日 23:34\\n ...   \n",
       "99       担忧              \\n                        2019年11月28日 12:43\\n ...   \n",
       "\n",
       "                 来自                                               页面网址  \\\n",
       "280     坚果手机 Pro 2S  https://s.weibo.com/weibo/%25E6%258B%2585%25E5...   \n",
       "94   vivo X21屏幕指纹手机  https://s.weibo.com/weibo/%25E4%25BC%259A%25E4...   \n",
       "124         Android  https://s.weibo.com/weibo/%25E4%25BC%259A%25E4...   \n",
       "225   OPPO超视野全面屏R15  https://s.weibo.com/weibo/%25E4%25BC%259A%25E4...   \n",
       "99      荣耀9i 千元潮美旗舰  https://s.weibo.com/weibo/%25E4%25BC%259A%25E4...   \n",
       "\n",
       "                                                  博文链接  \n",
       "280  https://weibo.com/5605042567/IwMqPBXf6?refer_f...  \n",
       "94   https://weibo.com/6016899235/IiODOrZMo?refer_f...  \n",
       "124  https://weibo.com/7315045415/IevPDD4mR?refer_f...  \n",
       "225  https://weibo.com/2807834222/HvgSRd2as?refer_f...  \n",
       "99   https://weibo.com/5699354119/IihN8mjSm?refer_f...  "
      ]
     },
     "execution_count": 46,
     "metadata": {},
     "output_type": "execute_result"
    }
   ],
   "source": [
    "df_use.head(5)"
   ]
  },
  {
   "cell_type": "code",
   "execution_count": 58,
   "metadata": {},
   "outputs": [],
   "source": [
    "# model.save(\"Bi-LSTM(加入预训练的词向量库,多标签问题).h5\")"
   ]
  },
  {
   "cell_type": "code",
   "execution_count": 75,
   "metadata": {},
   "outputs": [
    {
     "data": {
      "text/html": [
       "<div>\n",
       "<style scoped>\n",
       "    .dataframe tbody tr th:only-of-type {\n",
       "        vertical-align: middle;\n",
       "    }\n",
       "\n",
       "    .dataframe tbody tr th {\n",
       "        vertical-align: top;\n",
       "    }\n",
       "\n",
       "    .dataframe thead th {\n",
       "        text-align: right;\n",
       "    }\n",
       "</style>\n",
       "<table border=\"1\" class=\"dataframe\">\n",
       "  <thead>\n",
       "    <tr style=\"text-align: right;\">\n",
       "      <th></th>\n",
       "      <th>用户名</th>\n",
       "      <th>博文</th>\n",
       "      <th>关键词</th>\n",
       "      <th>是否担忧（1=担忧，0=不担忧）</th>\n",
       "      <th>标签1（担忧对象）</th>\n",
       "      <th>标签2（担忧什么）</th>\n",
       "      <th>标签3（什么保险）</th>\n",
       "      <th>标签4（症状）</th>\n",
       "      <th>转发数</th>\n",
       "      <th>评论数</th>\n",
       "      <th>点赞数</th>\n",
       "      <th>发文时间</th>\n",
       "      <th>来自</th>\n",
       "      <th>页面网址</th>\n",
       "      <th>博文链接</th>\n",
       "    </tr>\n",
       "  </thead>\n",
       "  <tbody>\n",
       "    <tr>\n",
       "      <th>0</th>\n",
       "      <td>限量泡芙馆</td>\n",
       "      <td>给好多人说了新年快乐说了新年祝福还没有给自己说过。新年快乐希望在2020年你可以学有所成重要...</td>\n",
       "      <td>会不会得病</td>\n",
       "      <td>0.0</td>\n",
       "      <td>NaN</td>\n",
       "      <td>NaN</td>\n",
       "      <td>NaN</td>\n",
       "      <td>NaN</td>\n",
       "      <td></td>\n",
       "      <td></td>\n",
       "      <td></td>\n",
       "      <td>\\n                        2019年12月31日 23:59\\n ...</td>\n",
       "      <td>前置双摄vivo X9</td>\n",
       "      <td>https://s.weibo.com/weibo/%25E4%25BC%259A%25E4...</td>\n",
       "      <td>https://weibo.com/7110290864/InnjW9O0v?refer_f...</td>\n",
       "    </tr>\n",
       "    <tr>\n",
       "      <th>1</th>\n",
       "      <td>我会有未来吗</td>\n",
       "      <td>2019开始倒数了哦原来小时候觉得很遥远的2020年就是明天了要说2019年我收获了什么呢？...</td>\n",
       "      <td>会不会得病</td>\n",
       "      <td>1.0</td>\n",
       "      <td>自己</td>\n",
       "      <td>健康</td>\n",
       "      <td>健康保险</td>\n",
       "      <td>抑郁</td>\n",
       "      <td></td>\n",
       "      <td></td>\n",
       "      <td></td>\n",
       "      <td>\\n                        2019年12月31日 02:38\\n ...</td>\n",
       "      <td>Android</td>\n",
       "      <td>https://s.weibo.com/weibo/%25E4%25BC%259A%25E4...</td>\n",
       "      <td>https://weibo.com/7231474716/IneVRtZTq?refer_f...</td>\n",
       "    </tr>\n",
       "  </tbody>\n",
       "</table>\n",
       "</div>"
      ],
      "text/plain": [
       "      用户名                                                 博文    关键词  \\\n",
       "0   限量泡芙馆  给好多人说了新年快乐说了新年祝福还没有给自己说过。新年快乐希望在2020年你可以学有所成重要...  会不会得病   \n",
       "1  我会有未来吗  2019开始倒数了哦原来小时候觉得很遥远的2020年就是明天了要说2019年我收获了什么呢？...  会不会得病   \n",
       "\n",
       "   是否担忧（1=担忧，0=不担忧） 标签1（担忧对象） 标签2（担忧什么） 标签3（什么保险） 标签4（症状） 转发数 评论数 点赞数  \\\n",
       "0               0.0       NaN       NaN       NaN     NaN               \n",
       "1               1.0        自己        健康      健康保险      抑郁               \n",
       "\n",
       "                                                发文时间           来自  \\\n",
       "0  \\n                        2019年12月31日 23:59\\n ...  前置双摄vivo X9   \n",
       "1  \\n                        2019年12月31日 02:38\\n ...      Android   \n",
       "\n",
       "                                                页面网址  \\\n",
       "0  https://s.weibo.com/weibo/%25E4%25BC%259A%25E4...   \n",
       "1  https://s.weibo.com/weibo/%25E4%25BC%259A%25E4...   \n",
       "\n",
       "                                                博文链接  \n",
       "0  https://weibo.com/7110290864/InnjW9O0v?refer_f...  \n",
       "1  https://weibo.com/7231474716/IneVRtZTq?refer_f...  "
      ]
     },
     "execution_count": 75,
     "metadata": {},
     "output_type": "execute_result"
    }
   ],
   "source": [
    "new_data = pd.read_csv(\"已标记的会不会得病标签.csv\")\n",
    "new_data_preserved = new_data\n",
    "new_data.head(2)"
   ]
  },
  {
   "cell_type": "code",
   "execution_count": 62,
   "metadata": {},
   "outputs": [],
   "source": [
    "new_data = new_data[[\"博文\"]]\n",
    "new_data = new_data.dropna()"
   ]
  },
  {
   "cell_type": "code",
   "execution_count": 64,
   "metadata": {},
   "outputs": [
    {
     "ename": "AttributeError",
     "evalue": "'list' object has no attribute 'decode'",
     "output_type": "error",
     "traceback": [
      "\u001b[1;31m---------------------------------------------------------------------------\u001b[0m",
      "\u001b[1;31mAttributeError\u001b[0m                            Traceback (most recent call last)",
      "\u001b[1;32m<ipython-input-64-42595e969fa4>\u001b[0m in \u001b[0;36m<module>\u001b[1;34m\u001b[0m\n\u001b[1;32m----> 1\u001b[1;33m \u001b[0mnew_data\u001b[0m\u001b[1;33m[\u001b[0m\u001b[1;34m\"博文\"\u001b[0m\u001b[1;33m]\u001b[0m \u001b[1;33m=\u001b[0m \u001b[0mprocess\u001b[0m\u001b[1;33m.\u001b[0m\u001b[0mword_cut\u001b[0m\u001b[1;33m(\u001b[0m\u001b[0mnew_data\u001b[0m\u001b[1;33m[\u001b[0m\u001b[1;34m\"博文\"\u001b[0m\u001b[1;33m]\u001b[0m\u001b[1;33m)\u001b[0m\u001b[1;33m\u001b[0m\u001b[1;33m\u001b[0m\u001b[0m\n\u001b[0m\u001b[0;32m      2\u001b[0m \u001b[0mnew_data\u001b[0m\u001b[1;33m.\u001b[0m\u001b[0mhead\u001b[0m\u001b[1;33m(\u001b[0m\u001b[1;36m2\u001b[0m\u001b[1;33m)\u001b[0m\u001b[1;33m\u001b[0m\u001b[1;33m\u001b[0m\u001b[0m\n",
      "\u001b[1;32m<ipython-input-1-446dbee63a57>\u001b[0m in \u001b[0;36mword_cut\u001b[1;34m(self, documents)\u001b[0m\n\u001b[0;32m      9\u001b[0m         \u001b[0mtexts\u001b[0m \u001b[1;33m=\u001b[0m \u001b[1;33m[\u001b[0m\u001b[1;33m]\u001b[0m\u001b[1;33m\u001b[0m\u001b[1;33m\u001b[0m\u001b[0m\n\u001b[0;32m     10\u001b[0m         \u001b[1;32mfor\u001b[0m \u001b[0mline\u001b[0m \u001b[1;32min\u001b[0m \u001b[0mdocuments\u001b[0m\u001b[1;33m:\u001b[0m\u001b[1;33m\u001b[0m\u001b[1;33m\u001b[0m\u001b[0m\n\u001b[1;32m---> 11\u001b[1;33m             \u001b[0mwords\u001b[0m \u001b[1;33m=\u001b[0m \u001b[1;34m' '\u001b[0m\u001b[1;33m.\u001b[0m\u001b[0mjoin\u001b[0m\u001b[1;33m(\u001b[0m\u001b[0mjieba\u001b[0m\u001b[1;33m.\u001b[0m\u001b[0mcut\u001b[0m\u001b[1;33m(\u001b[0m\u001b[0mline\u001b[0m\u001b[1;33m)\u001b[0m\u001b[1;33m)\u001b[0m\u001b[1;33m.\u001b[0m\u001b[0msplit\u001b[0m\u001b[1;33m(\u001b[0m\u001b[1;34m' '\u001b[0m\u001b[1;33m)\u001b[0m \u001b[1;31m# 用空格去连接，连接后马上又拆分\u001b[0m\u001b[1;33m\u001b[0m\u001b[1;33m\u001b[0m\u001b[0m\n\u001b[0m\u001b[0;32m     12\u001b[0m             \u001b[0mtext\u001b[0m \u001b[1;33m=\u001b[0m \u001b[1;33m[\u001b[0m\u001b[1;33m]\u001b[0m\u001b[1;33m\u001b[0m\u001b[1;33m\u001b[0m\u001b[0m\n\u001b[0;32m     13\u001b[0m             \u001b[1;32mfor\u001b[0m \u001b[0mword\u001b[0m \u001b[1;32min\u001b[0m \u001b[0mwords\u001b[0m\u001b[1;33m:\u001b[0m\u001b[1;33m\u001b[0m\u001b[1;33m\u001b[0m\u001b[0m\n",
      "\u001b[1;32mC:\\ProgramData\\Anaconda3\\lib\\site-packages\\jieba\\__init__.py\u001b[0m in \u001b[0;36mcut\u001b[1;34m(self, sentence, cut_all, HMM, use_paddle)\u001b[0m\n\u001b[0;32m    298\u001b[0m         \"\"\"\n\u001b[0;32m    299\u001b[0m         \u001b[0mis_paddle_installed\u001b[0m \u001b[1;33m=\u001b[0m \u001b[0mcheck_paddle_install\u001b[0m\u001b[1;33m[\u001b[0m\u001b[1;34m'is_paddle_installed'\u001b[0m\u001b[1;33m]\u001b[0m\u001b[1;33m\u001b[0m\u001b[1;33m\u001b[0m\u001b[0m\n\u001b[1;32m--> 300\u001b[1;33m         \u001b[0msentence\u001b[0m \u001b[1;33m=\u001b[0m \u001b[0mstrdecode\u001b[0m\u001b[1;33m(\u001b[0m\u001b[0msentence\u001b[0m\u001b[1;33m)\u001b[0m\u001b[1;33m\u001b[0m\u001b[1;33m\u001b[0m\u001b[0m\n\u001b[0m\u001b[0;32m    301\u001b[0m         \u001b[1;32mif\u001b[0m \u001b[0muse_paddle\u001b[0m \u001b[1;32mand\u001b[0m \u001b[0mis_paddle_installed\u001b[0m\u001b[1;33m:\u001b[0m\u001b[1;33m\u001b[0m\u001b[1;33m\u001b[0m\u001b[0m\n\u001b[0;32m    302\u001b[0m             \u001b[1;31m# if sentence is null, it will raise core exception in paddle.\u001b[0m\u001b[1;33m\u001b[0m\u001b[1;33m\u001b[0m\u001b[1;33m\u001b[0m\u001b[0m\n",
      "\u001b[1;32mC:\\ProgramData\\Anaconda3\\lib\\site-packages\\jieba\\_compat.py\u001b[0m in \u001b[0;36mstrdecode\u001b[1;34m(sentence)\u001b[0m\n\u001b[0;32m     77\u001b[0m     \u001b[1;32mif\u001b[0m \u001b[1;32mnot\u001b[0m \u001b[0misinstance\u001b[0m\u001b[1;33m(\u001b[0m\u001b[0msentence\u001b[0m\u001b[1;33m,\u001b[0m \u001b[0mtext_type\u001b[0m\u001b[1;33m)\u001b[0m\u001b[1;33m:\u001b[0m\u001b[1;33m\u001b[0m\u001b[1;33m\u001b[0m\u001b[0m\n\u001b[0;32m     78\u001b[0m         \u001b[1;32mtry\u001b[0m\u001b[1;33m:\u001b[0m\u001b[1;33m\u001b[0m\u001b[1;33m\u001b[0m\u001b[0m\n\u001b[1;32m---> 79\u001b[1;33m             \u001b[0msentence\u001b[0m \u001b[1;33m=\u001b[0m \u001b[0msentence\u001b[0m\u001b[1;33m.\u001b[0m\u001b[0mdecode\u001b[0m\u001b[1;33m(\u001b[0m\u001b[1;34m'utf-8'\u001b[0m\u001b[1;33m)\u001b[0m\u001b[1;33m\u001b[0m\u001b[1;33m\u001b[0m\u001b[0m\n\u001b[0m\u001b[0;32m     80\u001b[0m         \u001b[1;32mexcept\u001b[0m \u001b[0mUnicodeDecodeError\u001b[0m\u001b[1;33m:\u001b[0m\u001b[1;33m\u001b[0m\u001b[1;33m\u001b[0m\u001b[0m\n\u001b[0;32m     81\u001b[0m             \u001b[0msentence\u001b[0m \u001b[1;33m=\u001b[0m \u001b[0msentence\u001b[0m\u001b[1;33m.\u001b[0m\u001b[0mdecode\u001b[0m\u001b[1;33m(\u001b[0m\u001b[1;34m'gbk'\u001b[0m\u001b[1;33m,\u001b[0m \u001b[1;34m'ignore'\u001b[0m\u001b[1;33m)\u001b[0m\u001b[1;33m\u001b[0m\u001b[1;33m\u001b[0m\u001b[0m\n",
      "\u001b[1;31mAttributeError\u001b[0m: 'list' object has no attribute 'decode'"
     ]
    }
   ],
   "source": [
    "new_data[\"博文\"] = process.word_cut(new_data[\"博文\"])\n",
    "new_data.head(2)"
   ]
  },
  {
   "cell_type": "code",
   "execution_count": 65,
   "metadata": {},
   "outputs": [
    {
     "data": {
      "text/html": [
       "<div>\n",
       "<style scoped>\n",
       "    .dataframe tbody tr th:only-of-type {\n",
       "        vertical-align: middle;\n",
       "    }\n",
       "\n",
       "    .dataframe tbody tr th {\n",
       "        vertical-align: top;\n",
       "    }\n",
       "\n",
       "    .dataframe thead th {\n",
       "        text-align: right;\n",
       "    }\n",
       "</style>\n",
       "<table border=\"1\" class=\"dataframe\">\n",
       "  <thead>\n",
       "    <tr style=\"text-align: right;\">\n",
       "      <th></th>\n",
       "      <th>博文</th>\n",
       "    </tr>\n",
       "  </thead>\n",
       "  <tbody>\n",
       "    <tr>\n",
       "      <th>0</th>\n",
       "      <td>[好多, 说, 说, 说, 希望, 2020, 年, 改变, 做, 努力, 希望, 2020...</td>\n",
       "    </tr>\n",
       "    <tr>\n",
       "      <th>1</th>\n",
       "      <td>[2019, 小时候, 2020, 年, 明天, 2019, 年, 想想, 挺, 少, 年,...</td>\n",
       "    </tr>\n",
       "  </tbody>\n",
       "</table>\n",
       "</div>"
      ],
      "text/plain": [
       "                                                  博文\n",
       "0  [好多, 说, 说, 说, 希望, 2020, 年, 改变, 做, 努力, 希望, 2020...\n",
       "1  [2019, 小时候, 2020, 年, 明天, 2019, 年, 想想, 挺, 少, 年,..."
      ]
     },
     "execution_count": 65,
     "metadata": {},
     "output_type": "execute_result"
    }
   ],
   "source": [
    "new_data[\"博文\"] = process.frequency(new_data[\"博文\"],5)\n",
    "new_data.head(2)"
   ]
  },
  {
   "cell_type": "code",
   "execution_count": 66,
   "metadata": {},
   "outputs": [
    {
     "data": {
      "text/html": [
       "<div>\n",
       "<style scoped>\n",
       "    .dataframe tbody tr th:only-of-type {\n",
       "        vertical-align: middle;\n",
       "    }\n",
       "\n",
       "    .dataframe tbody tr th {\n",
       "        vertical-align: top;\n",
       "    }\n",
       "\n",
       "    .dataframe thead th {\n",
       "        text-align: right;\n",
       "    }\n",
       "</style>\n",
       "<table border=\"1\" class=\"dataframe\">\n",
       "  <thead>\n",
       "    <tr style=\"text-align: right;\">\n",
       "      <th></th>\n",
       "      <th>博文</th>\n",
       "    </tr>\n",
       "  </thead>\n",
       "  <tbody>\n",
       "    <tr>\n",
       "      <th>0</th>\n",
       "      <td>[12411, 118, 118, 118, 934, -1, 15, 1056, 225,...</td>\n",
       "    </tr>\n",
       "    <tr>\n",
       "      <th>1</th>\n",
       "      <td>[-1, 9616, -1, 15, 6248, -1, 15, 17611, 5680, ...</td>\n",
       "    </tr>\n",
       "  </tbody>\n",
       "</table>\n",
       "</div>"
      ],
      "text/plain": [
       "                                                  博文\n",
       "0  [12411, 118, 118, 118, 934, -1, 15, 1056, 225,...\n",
       "1  [-1, 9616, -1, 15, 6248, -1, 15, 17611, 5680, ..."
      ]
     },
     "execution_count": 66,
     "metadata": {},
     "output_type": "execute_result"
    }
   ],
   "source": [
    "new_data[\"博文\"] = process.recoding(new_data[\"博文\"],process.word_index)\n",
    "new_data.head(2)"
   ]
  },
  {
   "cell_type": "code",
   "execution_count": 67,
   "metadata": {},
   "outputs": [],
   "source": [
    "new_data[\"博文\"] = process.delete(new_data[\"博文\"])"
   ]
  },
  {
   "cell_type": "code",
   "execution_count": 68,
   "metadata": {},
   "outputs": [],
   "source": [
    "x_test = preprocessing.sequence.pad_sequences(new_data[\"博文\"],maxlen = max_len)"
   ]
  },
  {
   "cell_type": "code",
   "execution_count": 69,
   "metadata": {},
   "outputs": [
    {
     "data": {
      "text/plain": [
       "array([[  225,  1299,   934, ...,    15,  7798,  1947],\n",
       "       [ 1425,   514,  2413, ..., 11178,  7798,  1947],\n",
       "       [    0,     0,     0, ...,  6926,  1794,   118],\n",
       "       ...,\n",
       "       [    0,     0,     0, ..., 12872,  7798,  1947],\n",
       "       [    0,     0,     0, ...,  2830,  2413,   118],\n",
       "       [    0,     0,     0, ...,  2966,   875,  5853]])"
      ]
     },
     "execution_count": 69,
     "metadata": {},
     "output_type": "execute_result"
    }
   ],
   "source": [
    "x_test"
   ]
  },
  {
   "cell_type": "code",
   "execution_count": 70,
   "metadata": {},
   "outputs": [
    {
     "data": {
      "text/plain": [
       "(523, 23)"
      ]
     },
     "execution_count": 70,
     "metadata": {},
     "output_type": "execute_result"
    }
   ],
   "source": [
    "prediction = model.predict(x_test)\n",
    "prediction.shape"
   ]
  },
  {
   "cell_type": "code",
   "execution_count": 76,
   "metadata": {},
   "outputs": [],
   "source": [
    "new_data_preserved = new_data_preserved[pd.notna(new_data_preserved[\"博文\"])]"
   ]
  },
  {
   "cell_type": "code",
   "execution_count": 77,
   "metadata": {},
   "outputs": [],
   "source": [
    "Result = pd.DataFrame(list(prediction),new_data_preserved[\"博文\"])\n",
    "Result.columns = list(mlb.classes_)\n",
    "Result = Result.reset_index() \n",
    "Result.to_excel(\"Bi-LSTM预测结果（多标签问题）.xlsx\",header = True)"
   ]
  },
  {
   "cell_type": "code",
   "execution_count": null,
   "metadata": {},
   "outputs": [],
   "source": []
  }
 ],
 "metadata": {
  "kernelspec": {
   "display_name": "Python 3",
   "language": "python",
   "name": "python3"
  },
  "language_info": {
   "codemirror_mode": {
    "name": "ipython",
    "version": 3
   },
   "file_extension": ".py",
   "mimetype": "text/x-python",
   "name": "python",
   "nbconvert_exporter": "python",
   "pygments_lexer": "ipython3",
   "version": "3.7.4"
  }
 },
 "nbformat": 4,
 "nbformat_minor": 2
}
